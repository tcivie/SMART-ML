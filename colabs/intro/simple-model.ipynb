{
 "cells": [
  {
   "cell_type": "code",
   "execution_count": 1,
   "id": "initial_id",
   "metadata": {
    "collapsed": true,
    "ExecuteTime": {
     "end_time": "2024-01-27T12:08:22.128265Z",
     "start_time": "2024-01-27T12:08:17.857971Z"
    }
   },
   "outputs": [
    {
     "data": {
      "text/plain": "'2.1.1'"
     },
     "execution_count": 1,
     "metadata": {},
     "output_type": "execute_result"
    }
   ],
   "source": [
    "import time\n",
    "from typing import Tuple, Any, Union, Dict\n",
    "import requests\n",
    "import torch\n",
    "import torch.nn as nn\n",
    "import torch.optim as optim\n",
    "import random\n",
    "import numpy as np\n",
    "import os\n",
    "\n",
    "from torch import Tensor\n",
    "from torchinfo import summary\n",
    "from api_endpoints import *\n",
    "import nest_asyncio\n",
    "nest_asyncio.apply()\n",
    "\n",
    "torch.__version__"
   ]
  },
  {
   "cell_type": "code",
   "execution_count": 1,
   "outputs": [],
   "source": [],
   "metadata": {
    "collapsed": false,
    "ExecuteTime": {
     "end_time": "2024-01-27T12:08:22.129472Z",
     "start_time": "2024-01-27T12:08:22.126781Z"
    }
   },
   "id": "bced37cec757de65"
  },
  {
   "cell_type": "code",
   "execution_count": 2,
   "outputs": [
    {
     "name": "stdout",
     "output_type": "stream",
     "text": [
      "Device set to: mps\n"
     ]
    }
   ],
   "source": [
    "# Determine the best available device for PyTorch operations (Device Agnostic Code)\n",
    "if torch.cuda.is_available():\n",
    "    device = 'cuda' # GPU\n",
    "elif torch.backends.mps.is_available():\n",
    "    device = 'mps' # GPU for MacOS (Metal Programming Framework)\n",
    "else:\n",
    "    device = 'cpu' # CPU\n",
    "    \n",
    "# device='cpu'\n",
    "print(f'Device set to: {device}')"
   ],
   "metadata": {
    "collapsed": false,
    "ExecuteTime": {
     "end_time": "2024-01-27T12:08:22.147652Z",
     "start_time": "2024-01-27T12:08:22.143251Z"
    }
   },
   "id": "f2b1d58221efc1bd"
  },
  {
   "cell_type": "code",
   "execution_count": 3,
   "outputs": [],
   "source": [
    "# Constants\n",
    "HIDDEN_SIZE = 64\n",
    "LEARNING_RATE = 1e-1\n",
    "EPS_START = 0.9\n",
    "EPS_END = 0.05\n",
    "EPS_DECAY = 1_000\n",
    "BATCH_SIZE = 128\n",
    "GAMMA = 0.80\n",
    "TAU = 0.005\n",
    "MEM_SIZE = 100_000\n",
    "EPISODES = 10"
   ],
   "metadata": {
    "collapsed": false,
    "ExecuteTime": {
     "end_time": "2024-01-27T12:08:22.167753Z",
     "start_time": "2024-01-27T12:08:22.147651Z"
    }
   },
   "id": "775b206ccf3c63e6"
  },
  {
   "cell_type": "code",
   "execution_count": 4,
   "outputs": [
    {
     "data": {
      "text/plain": "'ce0b92b0-b682-45a4-b8d1-8335c86ffcc5'"
     },
     "execution_count": 4,
     "metadata": {},
     "output_type": "execute_result"
    }
   ],
   "source": [
    "\n",
    "# Check what data we have\n",
    "simulation_id = start_simulation('scenarios/bologna/acosta/run.sumocfg',is_gui=False)\n",
    "simulation_id"
   ],
   "metadata": {
    "collapsed": false,
    "ExecuteTime": {
     "end_time": "2024-01-27T12:08:25.250335Z",
     "start_time": "2024-01-27T12:08:22.149760Z"
    }
   },
   "id": "9992b292c0f589ad"
  },
  {
   "cell_type": "code",
   "execution_count": 5,
   "outputs": [
    {
     "name": "stdout",
     "output_type": "stream",
     "text": [
      "Selected tls: 210\n"
     ]
    }
   ],
   "source": [
    "response = get_initial_data(simulation_id)\n",
    "tls_names = list(response['data']['tls'].keys())\n",
    "selected_tls_name = random.choice(tls_names)\n",
    "selected_tls = response['data']['tls'][selected_tls_name]\n",
    "not_selected_tls_names = [name for name in tls_names if name != selected_tls_name]\n",
    "selected_program_ids = [program['program_id']  for program in selected_tls[\"programs\"]]\n",
    "selected_program_ids.sort()\n",
    "print(\"Selected tls:\",selected_tls_name)"
   ],
   "metadata": {
    "collapsed": false,
    "ExecuteTime": {
     "end_time": "2024-01-27T12:08:25.261652Z",
     "start_time": "2024-01-27T12:08:25.249926Z"
    }
   },
   "id": "9b68b7158430e875"
  },
  {
   "cell_type": "code",
   "execution_count": 6,
   "outputs": [
    {
     "name": "stdout",
     "output_type": "stream",
     "text": [
      "Observations: 119 | Actions: 4\n"
     ]
    }
   ],
   "source": [
    "n_observations = len(selected_tls['lanes'] * 7)\n",
    "programs_count = len(selected_program_ids)\n",
    "n_actions = 2 + programs_count # Step, Change Phase, Change Program\n",
    "\n",
    "print(f'Observations: {n_observations} | Actions: {n_actions}')"
   ],
   "metadata": {
    "collapsed": false,
    "ExecuteTime": {
     "end_time": "2024-01-27T12:08:25.266330Z",
     "start_time": "2024-01-27T12:08:25.262060Z"
    }
   },
   "id": "ceeb27c6c37059cc"
  },
  {
   "cell_type": "code",
   "execution_count": 7,
   "outputs": [],
   "source": [
    "from collections import namedtuple, deque\n",
    "\n",
    "Transition = namedtuple('Transition',\n",
    "                        ('state', 'action', 'next_state', 'reward'))\n",
    "\n",
    "\n",
    "class ReplayMemory(object):\n",
    "\n",
    "    def __init__(self, capacity):\n",
    "        self.memory = deque([], maxlen=capacity)\n",
    "\n",
    "    def push(self, state, action, next_state, reward):\n",
    "        \"\"\"Save a transition\"\"\"\n",
    "        # Convert action to tensor if it's an integer\n",
    "        if isinstance(action, int):\n",
    "            action = torch.tensor([[action]], device=device, dtype=torch.long)\n",
    "        self.memory.append(Transition(state, action, next_state, reward))\n",
    "\n",
    "    def sample(self, batch_size):\n",
    "        return random.sample(self.memory, batch_size)\n",
    "\n",
    "    def __len__(self):\n",
    "        return len(self.memory)"
   ],
   "metadata": {
    "collapsed": false,
    "ExecuteTime": {
     "end_time": "2024-01-27T12:08:25.294407Z",
     "start_time": "2024-01-27T12:08:25.269900Z"
    }
   },
   "id": "925e1984f34a1119"
  },
  {
   "cell_type": "code",
   "execution_count": 8,
   "outputs": [],
   "source": [
    "# Neural Network Atchitecture\n",
    "import api_endpoints\n",
    "class SimpleNetwork(nn.Module):\n",
    "    def __init__(self, state_size: int, action_size: int, hidden_size: int = 64):\n",
    "        super().__init__()\n",
    "        self.layer1 = nn.Linear(state_size, hidden_size)\n",
    "        self.layer2 = nn.Linear(hidden_size, hidden_size)\n",
    "        self.layer3 = nn.Linear(hidden_size, action_size)\n",
    "        \n",
    "    def forward(self, state: torch.Tensor) -> torch.Tensor:\n",
    "        return self.layer3(nn.functional.relu(self.layer2(nn.functional.relu(self.layer1(state)))))"
   ],
   "metadata": {
    "collapsed": false,
    "ExecuteTime": {
     "end_time": "2024-01-27T12:08:25.295698Z",
     "start_time": "2024-01-27T12:08:25.274623Z"
    }
   },
   "id": "6b52ce51a9fb2842"
  },
  {
   "cell_type": "code",
   "execution_count": 9,
   "outputs": [],
   "source": [
    "def reward_func(states: dict, cars_that_left: int) -> torch.Tensor:\n",
    "    penalty = cars_that_left * 10\n",
    "    for lane in states.values():\n",
    "        if not lane:\n",
    "            continue\n",
    "        if lane.get('max_waiting_time',0.) > 0:\n",
    "            queue_length_percentage = lane['queue_length'] / (lane['total_cars'] / lane['occupancy'])\n",
    "            penalty -= queue_length_percentage * lane['max_waiting_time']\n",
    "        else:\n",
    "            penalty += lane['average_speed']\n",
    "    return torch.tensor(penalty, dtype=torch.float32, device=device)"
   ],
   "metadata": {
    "collapsed": false,
    "ExecuteTime": {
     "end_time": "2024-01-27T12:08:25.296434Z",
     "start_time": "2024-01-27T12:08:25.281711Z"
    }
   },
   "id": "5c500a0b7e51d3db"
  },
  {
   "cell_type": "code",
   "execution_count": 10,
   "outputs": [],
   "source": [
    "from enum import Enum\n",
    "\n",
    "\n",
    "class Action(Enum):\n",
    "    STEP = 0\n",
    "    NEXT_PHASE = 1\n",
    "    SWITCH_PROGRAM = 2\n",
    "\n",
    "def extract_state_tensor(simulation_id: str, number_of_steps: int, tls_id: str, action: int) -> tuple[Any, Any, Any]:\n",
    "    if action == Action.STEP:\n",
    "        response = api_endpoints.step_simulation(simulation_id, number_of_steps, tls_id) # Make step\n",
    "    elif action == Action.NEXT_PHASE:\n",
    "        response = api_endpoints.set_traffic_light_phase(tls_id,simulation_id, make_step=number_of_steps) # Set next phase\n",
    "    else: # Switch Program\n",
    "        selected_program_index  = action - 2\n",
    "        if selected_program_index >= len(selected_program_ids):\n",
    "            raise RuntimeError(\"Illegal action\")\n",
    "        selected_program = selected_program_ids[int(selected_program_index)]\n",
    "        response = api_endpoints.switch_traffic_light_program(tls_id= tls_id,session_id=simulation_id,program_id=selected_program, make_step=number_of_steps)\n",
    "        if not response:\n",
    "            response = api_endpoints.step_simulation(simulation_id, number_of_steps, tls_id)\n",
    "\n",
    "    # response = api_endpoints.step_simulation(simulation_id, number_of_steps, tls_id)\n",
    "    # print(response)\n",
    "    is_ended = response['is_ended']\n",
    "    metrics = response['vehicles_in_tls'][tls_id]['longest_waiting_time_car_in_lane']\n",
    "    cars_that_left = response['cars_that_left']\n",
    "    extracted_data = []\n",
    "    for lane in metrics:\n",
    "        values = list(metrics[lane].values())\n",
    "        if values:\n",
    "            extracted_data.extend([float(x) for x in metrics[lane].values()])\n",
    "        else:\n",
    "            extracted_data.extend([0. for _ in range(7)])\n",
    "    state = torch.tensor(extracted_data, dtype=torch.float32, device=device)\n",
    "    \n",
    "    # print(metrics)\n",
    "    reward = reward_func(metrics, cars_that_left)\n",
    "    return state, reward, is_ended"
   ],
   "metadata": {
    "collapsed": false,
    "ExecuteTime": {
     "end_time": "2024-01-27T12:08:25.296978Z",
     "start_time": "2024-01-27T12:08:25.287622Z"
    }
   },
   "id": "d97fd2493a46ee54"
  },
  {
   "cell_type": "code",
   "execution_count": 11,
   "outputs": [],
   "source": [
    "def reset_simulation(simulation_id: str) -> torch.Tensor:\n",
    "    response = api_endpoints.reset_simulation(simulation_id)\n",
    "    if response['status'] != 'success':\n",
    "        raise Exception('Error resetting simulation')\n",
    "    for name in not_selected_tls_names:\n",
    "        api_endpoints.switch_traffic_light_program(name,simulation_id,\"0\",forced=True)\n",
    "    state, reward, _ = extract_state_tensor(simulation_id, 1, selected_tls_name,0)\n",
    "    return state"
   ],
   "metadata": {
    "collapsed": false,
    "ExecuteTime": {
     "end_time": "2024-01-27T12:08:25.307680Z",
     "start_time": "2024-01-27T12:08:25.291175Z"
    }
   },
   "id": "6af425f36a84739e"
  },
  {
   "cell_type": "code",
   "execution_count": 12,
   "outputs": [],
   "source": [
    "policy_net = SimpleNetwork(n_observations, n_actions, HIDDEN_SIZE).to(device)\n",
    "target_net = SimpleNetwork(n_observations, n_actions, HIDDEN_SIZE).to(device)\n",
    "target_net.load_state_dict(policy_net.state_dict())\n",
    "\n",
    "optimizer = optim.Adam(policy_net.parameters(), lr=LEARNING_RATE)\n",
    "memory = ReplayMemory(MEM_SIZE)\n",
    "\n",
    "steps_done = 0"
   ],
   "metadata": {
    "collapsed": false,
    "ExecuteTime": {
     "end_time": "2024-01-27T12:08:25.514836Z",
     "start_time": "2024-01-27T12:08:25.295181Z"
    }
   },
   "id": "bc15d180e155fe00"
  },
  {
   "cell_type": "code",
   "execution_count": 13,
   "outputs": [],
   "source": [
    "def select_action(state: torch.Tensor) -> int:\n",
    "    global steps_done\n",
    "    sample = random.random()\n",
    "    eps_threshold = EPS_END + (EPS_START - EPS_END) * np.exp(-1. * steps_done / EPS_DECAY)\n",
    "    steps_done += 1\n",
    "    if sample > eps_threshold:\n",
    "        with torch.inference_mode():\n",
    "            # Get the action as an integer\n",
    "            return policy_net(state.float()).max(1).indices.item()\n",
    "    else:\n",
    "        # Randomly select an action and return as integer\n",
    "        return random.randrange(n_actions)"
   ],
   "metadata": {
    "collapsed": false,
    "ExecuteTime": {
     "end_time": "2024-01-27T12:08:25.519125Z",
     "start_time": "2024-01-27T12:08:25.516949Z"
    }
   },
   "id": "34c346b7993b7e02"
  },
  {
   "cell_type": "code",
   "execution_count": 14,
   "outputs": [],
   "source": [
    "episode_durations = []"
   ],
   "metadata": {
    "collapsed": false,
    "ExecuteTime": {
     "end_time": "2024-01-27T12:08:25.522414Z",
     "start_time": "2024-01-27T12:08:25.519523Z"
    }
   },
   "id": "5ee9e2c33444cf54"
  },
  {
   "cell_type": "code",
   "execution_count": 15,
   "outputs": [],
   "source": [
    "def optimize_model():\n",
    "    if len(memory) < BATCH_SIZE:\n",
    "        return 0\n",
    "    transitions = memory.sample(BATCH_SIZE)\n",
    "    # Transpose the batch (see https://stackoverflow.com/a/19343/3343043 for\n",
    "    # detailed explanation). This converts batch-array of Transitions\n",
    "    # to Transition of batch-arrays.\n",
    "    batch = Transition(*zip(*transitions))\n",
    "\n",
    "    # Compute a mask of non-final states and concatenate the batch elements\n",
    "    # (a final state would've been the one after which simulation ended)\n",
    "    non_final_mask = torch.tensor(tuple(map(lambda s: s is not None,\n",
    "                                          batch.next_state)), device=device, dtype=torch.bool)\n",
    "    non_final_next_states = torch.cat([s for s in batch.next_state\n",
    "                                                if s is not None])\n",
    "    state_batch = torch.cat(batch.state)\n",
    "    action_batch = torch.cat(batch.action).to(torch.int64)\n",
    "    reward_batch = torch.cat(batch.reward)\n",
    "\n",
    "    # Compute Q(s_t, a) - the model computes Q(s_t), then we select the\n",
    "    # columns of actions taken. These are the actions which would've been taken\n",
    "    # for each batch state according to policy_net\n",
    "    state_action_values = policy_net(state_batch).gather(1, action_batch)\n",
    "\n",
    "    # Compute V(s_{t+1}) for all next states.\n",
    "    # Expected values of actions for non_final_next_states are computed based\n",
    "    # on the \"older\" target_net; selecting their best reward with max(1).values\n",
    "    # This is merged based on the mask, such that we'll have either the expected\n",
    "    # state value or 0 in case the state was final.\n",
    "    next_state_values = torch.zeros(BATCH_SIZE, device=device)\n",
    "    with torch.inference_mode():\n",
    "        next_state_values[non_final_mask] = target_net(non_final_next_states).max(1).values\n",
    "    # Compute the expected Q values\n",
    "    expected_state_action_values = (next_state_values * GAMMA) + reward_batch\n",
    "\n",
    "    # Compute Huber loss\n",
    "    criterion = nn.SmoothL1Loss()\n",
    "    loss = criterion(state_action_values, expected_state_action_values.unsqueeze(1))\n",
    "\n",
    "    # Optimize the model\n",
    "    optimizer.zero_grad()\n",
    "    loss.backward()\n",
    "    # In-place gradient clipping\n",
    "    torch.nn.utils.clip_grad_value_(policy_net.parameters(), 1000)\n",
    "    optimizer.step()\n",
    "    return loss"
   ],
   "metadata": {
    "collapsed": false,
    "ExecuteTime": {
     "end_time": "2024-01-27T12:08:25.527852Z",
     "start_time": "2024-01-27T12:08:25.525092Z"
    }
   },
   "id": "1f622ef8ab6de2e4"
  },
  {
   "cell_type": "code",
   "execution_count": 16,
   "outputs": [],
   "source": [
    "import matplotlib\n",
    "import matplotlib.pyplot as plt\n",
    "\n",
    "is_ipython = 'inline' in matplotlib.get_backend()\n",
    "if is_ipython:\n",
    "    from IPython import display\n",
    "\n",
    "plt.ion()\n",
    "\n",
    "def plot_durations(show_result=False):\n",
    "    plt.figure(1)\n",
    "    durations_t = torch.tensor(episode_durations, dtype=torch.float32)\n",
    "    if show_result:\n",
    "        plt.title('Result')\n",
    "    else:\n",
    "        plt.clf()\n",
    "        plt.title('Training...')\n",
    "    plt.xlabel('Episode')\n",
    "    plt.ylabel('Duration')\n",
    "    plt.plot(durations_t.numpy())\n",
    "    # Take 100 episode averages and plot them too\n",
    "    if len(durations_t) >= 100:\n",
    "        means = durations_t.unfold(0, 100, 1).mean(1).view(-1)\n",
    "        means = torch.cat((torch.zeros(99), means))\n",
    "        plt.plot(means.numpy())\n",
    "\n",
    "    plt.pause(0.001)  # pause a bit so that plots are updated\n",
    "    if is_ipython:\n",
    "        if not show_result:\n",
    "            display.display(plt.gcf())\n",
    "            display.clear_output(wait=True)\n",
    "        else:\n",
    "            display.display(plt.gcf())"
   ],
   "metadata": {
    "collapsed": false,
    "ExecuteTime": {
     "end_time": "2024-01-27T12:08:25.814003Z",
     "start_time": "2024-01-27T12:08:25.530751Z"
    }
   },
   "id": "574546601d9f5d98"
  },
  {
   "cell_type": "code",
   "execution_count": 17,
   "outputs": [
    {
     "name": "stderr",
     "output_type": "stream",
     "text": [
      "100%|██████████| 10/10 [22:20<00:00, 134.06s/it]"
     ]
    },
    {
     "name": "stdout",
     "output_type": "stream",
     "text": [
      "Episode: 9/10 | Loss: 23.261978149414062\n"
     ]
    },
    {
     "name": "stderr",
     "output_type": "stream",
     "text": [
      "\n"
     ]
    },
    {
     "data": {
      "text/plain": "<Figure size 640x480 with 0 Axes>"
     },
     "metadata": {},
     "output_type": "display_data"
    }
   ],
   "source": [
    "from itertools import count\n",
    "from tqdm import tqdm\n",
    "steps_count = 5\n",
    "for i_episode in tqdm(range(EPISODES)):\n",
    "    state = reset_simulation(simulation_id)\n",
    "    state = torch.tensor(state, dtype=torch.float32, device=device).unsqueeze(0)\n",
    "    accumulated_loss = 0\n",
    "    steps_done = 0\n",
    "    for t in count():\n",
    "        # Select and perform an action\n",
    "        # print(f\"Selecting action with state: {state}\")\n",
    "        action = select_action(state)\n",
    "        # print(f'Getting next state and reward with action:{action}')\n",
    "        observation, reward, is_ended = extract_state_tensor(simulation_id, steps_count, selected_tls_name, action)\n",
    "        reward = torch.tensor([reward], device=device)\n",
    "        if is_ended:\n",
    "            next_state = None\n",
    "        else:\n",
    "            next_state = torch.tensor(observation, dtype=torch.float32, device=device).unsqueeze(0)\n",
    "        # Store the transition in memory\n",
    "        memory.push(state, action, next_state, reward)\n",
    "\n",
    "          # Move to the next state\n",
    "        state = next_state\n",
    "        \n",
    "        \n",
    "        # Perform one step of the optimization (on the target network)\n",
    "        loss = optimize_model()\n",
    "        accumulated_loss += loss\n",
    "        \n",
    "        # Soft update of the target network's weights\n",
    "        # θ′ ← τ θ + (1 −τ )θ′\n",
    "        target_net_state_dict = target_net.state_dict()\n",
    "        policy_net_state_dict = policy_net.state_dict()\n",
    "\n",
    "        for key in policy_net_state_dict:\n",
    "            target_net_state_dict[key] = policy_net_state_dict[key]*TAU + target_net_state_dict[key]*(1-TAU)\n",
    "        target_net.load_state_dict(target_net_state_dict)\n",
    "        if is_ended:\n",
    "            episode_durations.append(t + 1)\n",
    "            plot_durations()\n",
    "            break\n",
    "        # time.sleep(0.01)\n",
    "    print(f'Episode: {i_episode}/{EPISODES} | Loss: {accumulated_loss/t}')"
   ],
   "metadata": {
    "collapsed": false
   },
   "id": "f6b00d4a243c4bea"
  },
  {
   "cell_type": "code",
   "outputs": [
    {
     "data": {
      "text/plain": "{'status': 'success'}"
     },
     "execution_count": 18,
     "metadata": {},
     "output_type": "execute_result"
    }
   ],
   "source": [
    "stop_simulation(simulation_id)"
   ],
   "metadata": {
    "collapsed": false,
    "ExecuteTime": {
     "end_time": "2024-01-27T12:40:47.570129Z",
     "start_time": "2024-01-27T12:40:47.544331Z"
    }
   },
   "id": "acee950f6c162062",
   "execution_count": 18
  },
  {
   "cell_type": "code",
   "outputs": [
    {
     "data": {
      "text/plain": "'ce0b92b0-b682-45a4-b8d1-8335c86ffcc5'"
     },
     "execution_count": 19,
     "metadata": {},
     "output_type": "execute_result"
    }
   ],
   "source": [
    "simulation_id"
   ],
   "metadata": {
    "collapsed": false,
    "ExecuteTime": {
     "end_time": "2024-01-27T12:40:57.581425Z",
     "start_time": "2024-01-27T12:40:57.575941Z"
    }
   },
   "id": "d7691c1e86c333d2",
   "execution_count": 19
  },
  {
   "cell_type": "code",
   "outputs": [],
   "source": [],
   "metadata": {
    "collapsed": false
   },
   "id": "ee669881c2e96f8f"
  }
 ],
 "metadata": {
  "kernelspec": {
   "display_name": "Python 3",
   "language": "python",
   "name": "python3"
  },
  "language_info": {
   "codemirror_mode": {
    "name": "ipython",
    "version": 2
   },
   "file_extension": ".py",
   "mimetype": "text/x-python",
   "name": "python",
   "nbconvert_exporter": "python",
   "pygments_lexer": "ipython2",
   "version": "2.7.6"
  }
 },
 "nbformat": 4,
 "nbformat_minor": 5
}
