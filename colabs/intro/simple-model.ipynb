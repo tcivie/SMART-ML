{
 "cells": [
  {
   "cell_type": "code",
   "execution_count": 1,
   "id": "initial_id",
   "metadata": {
    "collapsed": true,
    "ExecuteTime": {
     "end_time": "2023-11-27T08:13:34.378157Z",
     "start_time": "2023-11-27T08:13:29.219607Z"
    }
   },
   "outputs": [
    {
     "data": {
      "text/plain": "'2.1.1'"
     },
     "execution_count": 1,
     "metadata": {},
     "output_type": "execute_result"
    }
   ],
   "source": [
    "import torch\n",
    "import torch.nn as nn\n",
    "import torch.optim as optim\n",
    "import random\n",
    "import numpy as np\n",
    "\n",
    "torch.__version__"
   ]
  },
  {
   "cell_type": "code",
   "execution_count": 2,
   "outputs": [
    {
     "name": "stdout",
     "output_type": "stream",
     "text": [
      "Device set to: mps\n"
     ]
    }
   ],
   "source": [
    "# Determine the best available device for PyTorch operations (Device Agnostic Code)\n",
    "if torch.cuda.is_available():\n",
    "    device = 'cuda' # GPU\n",
    "elif torch.backends.mps.is_available():\n",
    "    device = 'mps' # GPU for MacOS (Metal Programming Framework)\n",
    "else:\n",
    "    device = 'cpu' # CPU\n",
    "\n",
    "print(f'Device set to: {device}')"
   ],
   "metadata": {
    "collapsed": false,
    "ExecuteTime": {
     "end_time": "2023-11-27T08:16:01.258807Z",
     "start_time": "2023-11-27T08:16:01.253186Z"
    }
   },
   "id": "f2b1d58221efc1bd"
  },
  {
   "cell_type": "code",
   "execution_count": null,
   "outputs": [],
   "source": [
    "# Constants\n",
    "TLS_ID = '209'\n",
    "HIDDEN_SIZE = 64\n",
    "LEARNING_RATE = 0.001\n",
    "STARTING_EPSILON = 1.0\n",
    "EPSILON_DECAY = 0.995\n",
    "MIN_EPSILON = 0.01"
   ],
   "metadata": {
    "collapsed": false
   },
   "id": "775b206ccf3c63e6"
  },
  {
   "cell_type": "code",
   "execution_count": 8,
   "outputs": [
    {
     "data": {
      "text/plain": "'b99f154e-304a-4fa2-8071-8ea5172f115a'"
     },
     "execution_count": 8,
     "metadata": {},
     "output_type": "execute_result"
    }
   ],
   "source": [
    "import api_endpoints\n",
    "# Check what data we have\n",
    "simulation_id = api_endpoints.start_simulation('scenarios/bologna/acosta/run.sumocfg')\n",
    "simulation_id"
   ],
   "metadata": {
    "collapsed": false,
    "ExecuteTime": {
     "end_time": "2023-11-27T11:10:35.333739Z",
     "start_time": "2023-11-27T11:10:34.283620Z"
    }
   },
   "id": "9992b292c0f589ad"
  },
  {
   "cell_type": "code",
   "execution_count": 10,
   "outputs": [
    {
     "data": {
      "text/plain": "[{'current_phase': 0,\n  'current_phase_duration': 86400.0,\n  'current_phase_duration_max': 86400.0,\n  'id': '209',\n  'logics': [{'phases': [{'duration': 42.0,\n      'maxDur': 42.0,\n      'minDur': 42.0,\n      'state': 'GrGGGGg'},\n     {'duration': 3.0, 'maxDur': 3.0, 'minDur': 3.0, 'state': 'yryyyyy'},\n     {'duration': 42.0, 'maxDur': 42.0, 'minDur': 42.0, 'state': 'GGrGGrr'},\n     {'duration': 3.0, 'maxDur': 3.0, 'minDur': 3.0, 'state': 'yyryyrr'}],\n    'program_id': '0',\n    'type': 0},\n   {'phases': [{'duration': 86400.0,\n      'maxDur': 117.0,\n      'minDur': 45.0,\n      'state': 'GrGGGGg'},\n     {'duration': 86400.0, 'maxDur': 3.0, 'minDur': 3.0, 'state': 'yrGGGyy'},\n     {'duration': 86400.0, 'maxDur': 7.0, 'minDur': 7.0, 'state': 'rrGGGrr'},\n     {'duration': 86400.0, 'maxDur': 3.0, 'minDur': 3.0, 'state': 'rryyyrr'},\n     {'duration': 86400.0, 'maxDur': 3.0, 'minDur': 3.0, 'state': 'rrrrrrr'},\n     {'duration': 86400.0, 'maxDur': 26.0, 'minDur': 26.0, 'state': 'rGrrrrr'},\n     {'duration': 86400.0, 'maxDur': 3.0, 'minDur': 3.0, 'state': 'ryrrrrr'},\n     {'duration': 86400.0, 'maxDur': 3.0, 'minDur': 3.0, 'state': 'rrrrrrr'}],\n    'program_id': 'utopia',\n    'type': 0}],\n  'program': 'utopia'},\n {'current_phase': 0,\n  'current_phase_duration': 86400.0,\n  'current_phase_duration_max': 86400.0,\n  'id': '210',\n  'logics': [{'phases': [{'duration': 15.0,\n      'maxDur': 15.0,\n      'minDur': 15.0,\n      'state': 'rrrGGGGGrrrrrrGGrrrr'},\n     {'duration': 3.0,\n      'maxDur': 3.0,\n      'minDur': 3.0,\n      'state': 'rrryyyyyrrrrrryyrrrr'},\n     {'duration': 18.0,\n      'maxDur': 18.0,\n      'minDur': 18.0,\n      'state': 'GGgrrrrrGGgrrrrrGGGG'},\n     {'duration': 3.0,\n      'maxDur': 3.0,\n      'minDur': 3.0,\n      'state': 'yygrrrrryygrrrrryyyy'},\n     {'duration': 6.0,\n      'maxDur': 6.0,\n      'minDur': 6.0,\n      'state': 'rrGrrrrrrrGrrrrrGGGG'},\n     {'duration': 3.0,\n      'maxDur': 3.0,\n      'minDur': 3.0,\n      'state': 'rryrrrrrrryrrrrryyyy'},\n     {'duration': 18.0,\n      'maxDur': 18.0,\n      'minDur': 18.0,\n      'state': 'GrrrrrrrrrrGGGrrGGGG'},\n     {'duration': 3.0,\n      'maxDur': 3.0,\n      'minDur': 3.0,\n      'state': 'yrrrrrrrrrryyyrryyyy'},\n     {'duration': 18.0,\n      'maxDur': 18.0,\n      'minDur': 18.0,\n      'state': 'GGrGrrrrrrrrrrGGrrrr'},\n     {'duration': 3.0,\n      'maxDur': 3.0,\n      'minDur': 3.0,\n      'state': 'yyryrrrrrrrrrryyrrrr'}],\n    'program_id': '0',\n    'type': 0},\n   {'phases': [{'duration': 86400.0,\n      'maxDur': 84.0,\n      'minDur': 6.0,\n      'state': 'GGgrrrrrGGgrrrGGrrrr'},\n     {'duration': 86400.0,\n      'maxDur': 5.0,\n      'minDur': 5.0,\n      'state': 'yyyrrrrrGGgrrrGGrrrr'},\n     {'duration': 86400.0,\n      'maxDur': 3.0,\n      'minDur': 3.0,\n      'state': 'rrrrrrrryyyrrryyrrrr'},\n     {'duration': 86400.0,\n      'maxDur': 2.0,\n      'minDur': 2.0,\n      'state': 'rrrrrrrrrrrrrrrrrrrr'},\n     {'duration': 86400.0,\n      'maxDur': 1.0,\n      'minDur': 1.0,\n      'state': 'rrrGGGGgrrrGGgrrGGGG'},\n     {'duration': 86400.0,\n      'maxDur': 1.0,\n      'minDur': 1.0,\n      'state': 'rrrGGGGgrrrGGgrrGGGG'},\n     {'duration': 86400.0,\n      'maxDur': 5.0,\n      'minDur': 5.0,\n      'state': 'rrrGGGGgrrrGGgrrGGGG'},\n     {'duration': 86400.0,\n      'maxDur': 3.0,\n      'minDur': 3.0,\n      'state': 'rrrGGGGgrrrGGgrrGGGG'},\n     {'duration': 86400.0,\n      'maxDur': 2.0,\n      'minDur': 2.0,\n      'state': 'rrrGGGGgrrrGGgrrGGGG'},\n     {'duration': 86400.0,\n      'maxDur': 10.0,\n      'minDur': 10.0,\n      'state': 'rrrGGGGgrrrGGgrrGGGG'},\n     {'duration': 86400.0,\n      'maxDur': 5.0,\n      'minDur': 5.0,\n      'state': 'rrrGGGGgrrrGGgrrGGGG'},\n     {'duration': 86400.0,\n      'maxDur': 3.0,\n      'minDur': 3.0,\n      'state': 'rrrGGGGgrrryyyrryyyy'},\n     {'duration': 86400.0,\n      'maxDur': 4.0,\n      'minDur': 4.0,\n      'state': 'rrrGGGGGrrrrrrrrrrrr'},\n     {'duration': 86400.0,\n      'maxDur': 1.0,\n      'minDur': 1.0,\n      'state': 'rrrGGGGGrrrrrrrrrrrr'},\n     {'duration': 86400.0,\n      'maxDur': 5.0,\n      'minDur': 5.0,\n      'state': 'rrrGGGGGrrrrrrrrrrrr'},\n     {'duration': 86400.0,\n      'maxDur': 3.0,\n      'minDur': 3.0,\n      'state': 'rrryyyyyrrrrrrrrrrrr'},\n     {'duration': 86400.0,\n      'maxDur': 3.0,\n      'minDur': 3.0,\n      'state': 'rrrrrrrrrrrrrrrrrrrr'}],\n    'program_id': 'utopia',\n    'type': 0}],\n  'program': 'utopia'},\n {'current_phase': 0,\n  'current_phase_duration': 86400.0,\n  'current_phase_duration_max': 86400.0,\n  'id': '219',\n  'logics': [{'phases': [{'duration': 33.0,\n      'maxDur': 33.0,\n      'minDur': 33.0,\n      'state': 'GGGrrrrGGggrrrrr'},\n     {'duration': 3.0,\n      'maxDur': 3.0,\n      'minDur': 3.0,\n      'state': 'yyyrrrryyggrrrrr'},\n     {'duration': 6.0,\n      'maxDur': 6.0,\n      'minDur': 6.0,\n      'state': 'rrrrrrrGGGGrrrrr'},\n     {'duration': 3.0,\n      'maxDur': 3.0,\n      'minDur': 3.0,\n      'state': 'rrrrrrryyyyrrrrr'},\n     {'duration': 33.0,\n      'maxDur': 33.0,\n      'minDur': 33.0,\n      'state': 'rrrGGGgrrrrGGGGg'},\n     {'duration': 3.0,\n      'maxDur': 3.0,\n      'minDur': 3.0,\n      'state': 'rrryyygrrrryyyyg'},\n     {'duration': 6.0,\n      'maxDur': 6.0,\n      'minDur': 6.0,\n      'state': 'rrrrrrGrrrrrrrrG'},\n     {'duration': 3.0,\n      'maxDur': 3.0,\n      'minDur': 3.0,\n      'state': 'rrrrrryrrrrrrrry'}],\n    'program_id': '0',\n    'type': 0},\n   {'phases': [{'duration': 86400.0,\n      'maxDur': 86400.0,\n      'minDur': 86400.0,\n      'state': 'GrrrrrrrrrrGGGGG'},\n     {'duration': 86400.0,\n      'maxDur': 86400.0,\n      'minDur': 86400.0,\n      'state': 'GrrrrrrrrrrGGGGG'},\n     {'duration': 86400.0,\n      'maxDur': 86400.0,\n      'minDur': 86400.0,\n      'state': 'yrrrrrrrrrrGGGGy'},\n     {'duration': 86400.0,\n      'maxDur': 86400.0,\n      'minDur': 86400.0,\n      'state': 'rrrrrrrrrrrGGGGr'},\n     {'duration': 86400.0,\n      'maxDur': 86400.0,\n      'minDur': 86400.0,\n      'state': 'rrrGGGrrrrrGGGGr'},\n     {'duration': 86400.0,\n      'maxDur': 86400.0,\n      'minDur': 86400.0,\n      'state': 'rrrGGGgrrrryyyyr'},\n     {'duration': 86400.0,\n      'maxDur': 86400.0,\n      'minDur': 86400.0,\n      'state': 'rrrGGGGrrrrrrrrr'},\n     {'duration': 86400.0,\n      'maxDur': 86400.0,\n      'minDur': 86400.0,\n      'state': 'rrrGGGGrrrrrrrrr'},\n     {'duration': 86400.0,\n      'maxDur': 86400.0,\n      'minDur': 86400.0,\n      'state': 'rrrGGGGrrrrrrrrr'},\n     {'duration': 86400.0,\n      'maxDur': 86400.0,\n      'minDur': 86400.0,\n      'state': 'rrrGGGGrrrrrrrrr'},\n     {'duration': 86400.0,\n      'maxDur': 86400.0,\n      'minDur': 86400.0,\n      'state': 'rrryyyyrrrrrrrrr'},\n     {'duration': 86400.0,\n      'maxDur': 86400.0,\n      'minDur': 86400.0,\n      'state': 'rrrrrrrrrrrrrrrr'},\n     {'duration': 86400.0,\n      'maxDur': 86400.0,\n      'minDur': 86400.0,\n      'state': 'GGGrrrrGGrrrrrrr'},\n     {'duration': 86400.0,\n      'maxDur': 86400.0,\n      'minDur': 86400.0,\n      'state': 'GGGrrrrGGrrrrrrr'},\n     {'duration': 86400.0,\n      'maxDur': 86400.0,\n      'minDur': 86400.0,\n      'state': 'yyyrrrrGGrrrrrrr'},\n     {'duration': 86400.0,\n      'maxDur': 86400.0,\n      'minDur': 86400.0,\n      'state': 'rrrrrrrGGrrrrrrr'},\n     {'duration': 86400.0,\n      'maxDur': 86400.0,\n      'minDur': 86400.0,\n      'state': 'rrrrrrrGGGGrrrrr'},\n     {'duration': 86400.0,\n      'maxDur': 86400.0,\n      'minDur': 86400.0,\n      'state': 'rrrrrrrGGGGrrrrr'},\n     {'duration': 86400.0,\n      'maxDur': 86400.0,\n      'minDur': 86400.0,\n      'state': 'rrrrrrrGGGGrrrrr'},\n     {'duration': 86400.0,\n      'maxDur': 86400.0,\n      'minDur': 86400.0,\n      'state': 'rrrrrrryyyyrrrrr'},\n     {'duration': 86400.0,\n      'maxDur': 86400.0,\n      'minDur': 86400.0,\n      'state': 'rrrrrrrrrrrrrrrr'}],\n    'program_id': 'utopia',\n    'type': 0}],\n  'program': 'utopia'},\n {'current_phase': 0,\n  'current_phase_duration': 86400.0,\n  'current_phase_duration_max': 86400.0,\n  'id': '220',\n  'logics': [{'phases': [{'duration': 18.0,\n      'maxDur': 18.0,\n      'minDur': 18.0,\n      'state': 'GGGrrrrrGGGrr'},\n     {'duration': 3.0, 'maxDur': 3.0, 'minDur': 3.0, 'state': 'yyyrrrrryyyrr'},\n     {'duration': 20.0,\n      'maxDur': 20.0,\n      'minDur': 20.0,\n      'state': 'rrrGGrrrGGGrr'},\n     {'duration': 3.0, 'maxDur': 3.0, 'minDur': 3.0, 'state': 'rrryyrrryyyrr'},\n     {'duration': 20.0,\n      'maxDur': 20.0,\n      'minDur': 20.0,\n      'state': 'rrrrrrrGrrrrr'},\n     {'duration': 3.0, 'maxDur': 3.0, 'minDur': 3.0, 'state': 'rrrrrrryrrrrr'},\n     {'duration': 20.0,\n      'maxDur': 20.0,\n      'minDur': 20.0,\n      'state': 'rrrrrGGrGGGGG'},\n     {'duration': 3.0,\n      'maxDur': 3.0,\n      'minDur': 3.0,\n      'state': 'rrrrryyryyyyy'}],\n    'program_id': '0',\n    'type': 0},\n   {'phases': [{'duration': 86400.0,\n      'maxDur': 9.0,\n      'minDur': 9.0,\n      'state': 'rrrggGGrGGGGG'},\n     {'duration': 86400.0,\n      'maxDur': 3.0,\n      'minDur': 3.0,\n      'state': 'rrrggGGrGGGGG'},\n     {'duration': 86400.0,\n      'maxDur': 2.0,\n      'minDur': 2.0,\n      'state': 'rrrggGGrGGGGG'},\n     {'duration': 86400.0,\n      'maxDur': 3.0,\n      'minDur': 3.0,\n      'state': 'rrrggGGrGGGGG'},\n     {'duration': 86400.0,\n      'maxDur': 2.0,\n      'minDur': 2.0,\n      'state': 'rrrggGGrGGGGG'},\n     {'duration': 86400.0,\n      'maxDur': 3.0,\n      'minDur': 3.0,\n      'state': 'rrrggGGrGGGGG'},\n     {'duration': 86400.0,\n      'maxDur': 69.0,\n      'minDur': 3.0,\n      'state': 'rrrggGGrGGGGG'},\n     {'duration': 86400.0,\n      'maxDur': 3.0,\n      'minDur': 3.0,\n      'state': 'rrrggGGrGGGyy'},\n     {'duration': 86400.0,\n      'maxDur': 3.0,\n      'minDur': 3.0,\n      'state': 'rrryyyyrGGGrr'},\n     {'duration': 86400.0,\n      'maxDur': 2.0,\n      'minDur': 2.0,\n      'state': 'rrrrrrrrGGGrr'},\n     {'duration': 86400.0,\n      'maxDur': 5.0,\n      'minDur': 5.0,\n      'state': 'GGGrrrrrGGGrr'},\n     {'duration': 86400.0,\n      'maxDur': 3.0,\n      'minDur': 3.0,\n      'state': 'GGGrrrrrGGGrr'},\n     {'duration': 86400.0,\n      'maxDur': 2.0,\n      'minDur': 2.0,\n      'state': 'GGGrrrrrGGGrr'},\n     {'duration': 86400.0,\n      'maxDur': 3.0,\n      'minDur': 3.0,\n      'state': 'GGGrrrrryyyrr'},\n     {'duration': 86400.0,\n      'maxDur': 2.0,\n      'minDur': 2.0,\n      'state': 'GGGrrrrrrrrrr'},\n     {'duration': 86400.0,\n      'maxDur': 12.0,\n      'minDur': 12.0,\n      'state': 'GGGrrrrGrrrrr'},\n     {'duration': 86400.0,\n      'maxDur': 5.0,\n      'minDur': 5.0,\n      'state': 'GGGrrrrGrrrrr'},\n     {'duration': 86400.0,\n      'maxDur': 3.0,\n      'minDur': 3.0,\n      'state': 'yyyrrrryrrrrr'},\n     {'duration': 86400.0,\n      'maxDur': 2.0,\n      'minDur': 2.0,\n      'state': 'rrrrrrrrrrrrr'}],\n    'program_id': 'utopia',\n    'type': 0}],\n  'program': 'utopia'},\n {'current_phase': 0,\n  'current_phase_duration': 86400.0,\n  'current_phase_duration_max': 86400.0,\n  'id': '221',\n  'logics': [{'phases': [{'duration': 42.0,\n      'maxDur': 42.0,\n      'minDur': 42.0,\n      'state': 'GGGrrrrGGGGGGGrrrrrGGG'},\n     {'duration': 3.0,\n      'maxDur': 3.0,\n      'minDur': 3.0,\n      'state': 'yyyrrrryyyyyyyrrrrryyy'},\n     {'duration': 42.0,\n      'maxDur': 42.0,\n      'minDur': 42.0,\n      'state': 'rrrGGGGrrrrrrrGGGGGrrr'},\n     {'duration': 3.0,\n      'maxDur': 3.0,\n      'minDur': 3.0,\n      'state': 'rrryyyyrrrrrrryyyyyrrr'}],\n    'program_id': '0',\n    'type': 0},\n   {'phases': [{'duration': 86400.0,\n      'maxDur': 84.0,\n      'minDur': 3.0,\n      'state': 'GGGggrrGGGGGGGgrrrrGGG'},\n     {'duration': 86400.0,\n      'maxDur': 12.0,\n      'minDur': 12.0,\n      'state': 'GGGggrrGGGGGGGgrrrrGGG'},\n     {'duration': 86400.0,\n      'maxDur': 4.0,\n      'minDur': 4.0,\n      'state': 'GGGggrryyyyyyygrrrrGGG'},\n     {'duration': 86400.0,\n      'maxDur': 4.0,\n      'minDur': 4.0,\n      'state': 'yyyggrrrrrrrrrGrrrrGGG'},\n     {'duration': 86400.0,\n      'maxDur': 2.0,\n      'minDur': 2.0,\n      'state': 'rrrGGGGrrrrrrrGGGGGggg'},\n     {'duration': 86400.0,\n      'maxDur': 41.0,\n      'minDur': 14.0,\n      'state': 'rrrGGGGrrrrrrrGGGGGggg'},\n     {'duration': 86400.0,\n      'maxDur': 18.0,\n      'minDur': 18.0,\n      'state': 'rrrGGGGrrrrrrrGGGGGggg'},\n     {'duration': 86400.0,\n      'maxDur': 4.0,\n      'minDur': 4.0,\n      'state': 'rrrGGyyrrrrrrrGyyyyggg'},\n     {'duration': 86400.0,\n      'maxDur': 2.0,\n      'minDur': 2.0,\n      'state': 'rrrGGrrrrrrrrrGrrrrGGG'},\n     {'duration': 86400.0,\n      'maxDur': 12.0,\n      'minDur': 12.0,\n      'state': 'GGGggrrGGGGGGGgrrrrGGG'}],\n    'program_id': 'utopia',\n    'type': 0}],\n  'program': 'utopia'},\n {'current_phase': 0,\n  'current_phase_duration': 86400.0,\n  'current_phase_duration_max': 86400.0,\n  'id': '235',\n  'logics': [{'phases': [{'duration': 15.0,\n      'maxDur': 15.0,\n      'minDur': 15.0,\n      'state': 'GGGGGrrrrrrrrrrrrrrrGGrrr'},\n     {'duration': 3.0,\n      'maxDur': 3.0,\n      'minDur': 3.0,\n      'state': 'yyyyyrrrrrrrrrrrrrrryyrrr'},\n     {'duration': 15.0,\n      'maxDur': 15.0,\n      'minDur': 15.0,\n      'state': 'rrrrrGGGGGrrrrrrrrGGrrrrr'},\n     {'duration': 3.0,\n      'maxDur': 3.0,\n      'minDur': 3.0,\n      'state': 'rrrrryyyyyrrrrrrrryyrrrrr'},\n     {'duration': 15.0,\n      'maxDur': 15.0,\n      'minDur': 15.0,\n      'state': 'rrrrrrrrrrGGGGrrrrGGrrrrr'},\n     {'duration': 3.0,\n      'maxDur': 3.0,\n      'minDur': 3.0,\n      'state': 'rrrrrrrrrryyyyrrrryyrrrrr'},\n     {'duration': 15.0,\n      'maxDur': 15.0,\n      'minDur': 15.0,\n      'state': 'rrrrrrrrrrrrrrGGGGrrrrrrr'},\n     {'duration': 3.0,\n      'maxDur': 3.0,\n      'minDur': 3.0,\n      'state': 'rrrrrrrrrrrrrryyyyrrrrrrr'},\n     {'duration': 15.0,\n      'maxDur': 15.0,\n      'minDur': 15.0,\n      'state': 'rrrrrrrrrrrrrrrrrrrrrrGGG'},\n     {'duration': 3.0,\n      'maxDur': 3.0,\n      'minDur': 3.0,\n      'state': 'rrrrrrrrrrrrrrrrrrrrrryyy'}],\n    'program_id': '0',\n    'type': 0},\n   {'phases': [{'duration': 86400.0,\n      'maxDur': 50.0,\n      'minDur': 14.0,\n      'state': 'GGGrrrrrrrGGGGGGGGrrggrrr'},\n     {'duration': 86400.0,\n      'maxDur': 5.0,\n      'minDur': 5.0,\n      'state': 'GGGrrrrrrrGGGGGGGGrrggrrr'},\n     {'duration': 86400.0,\n      'maxDur': 3.0,\n      'minDur': 3.0,\n      'state': 'GGGGGrrrrrGGGGyyyyrrggrrr'},\n     {'duration': 86400.0,\n      'maxDur': 5.0,\n      'minDur': 5.0,\n      'state': 'GGGGGrrrrrGGGGrrrrrrGGrrr'},\n     {'duration': 86400.0,\n      'maxDur': 52.0,\n      'minDur': 7.0,\n      'state': 'GGGGGrrrrrGGGGrrrrrrGGrrr'},\n     {'duration': 86400.0,\n      'maxDur': 3.0,\n      'minDur': 3.0,\n      'state': 'yyyyyrrrrrGGGGrrrrrrGGrrr'},\n     {'duration': 86400.0,\n      'maxDur': 3.0,\n      'minDur': 3.0,\n      'state': 'rrrrrrrrrrGGGGrrrrrrGGrrr'},\n     {'duration': 86400.0,\n      'maxDur': 2.0,\n      'minDur': 2.0,\n      'state': 'rrrrrrrrrryyyyrrrrrrGGrrr'},\n     {'duration': 86400.0,\n      'maxDur': 1.0,\n      'minDur': 1.0,\n      'state': 'rrrrrrrrrryyyyrrrrrrGGGgg'},\n     {'duration': 86400.0,\n      'maxDur': 2.0,\n      'minDur': 2.0,\n      'state': 'rrrrrrrrrrrrrrrrrrrrGGGgg'},\n     {'duration': 86400.0,\n      'maxDur': 31.0,\n      'minDur': 13.0,\n      'state': 'rrrrrGGGGGrrrrrrrrGGgGGgg'},\n     {'duration': 86400.0,\n      'maxDur': 5.0,\n      'minDur': 5.0,\n      'state': 'rrrrrGGGGGrrrrrrrrGGgGGgg'},\n     {'duration': 86400.0,\n      'maxDur': 3.0,\n      'minDur': 3.0,\n      'state': 'rrrrryyyyyrrrrrrrryygGyyy'},\n     {'duration': 86400.0,\n      'maxDur': 4.0,\n      'minDur': 4.0,\n      'state': 'rrrrrrrrrrrrrrrrrrrrGGrrr'}],\n    'program_id': 'utopia',\n    'type': 0}],\n  'program': 'utopia'},\n {'current_phase': 0,\n  'current_phase_duration': 86400.0,\n  'current_phase_duration_max': 86400.0,\n  'id': '273',\n  'logics': [{'phases': [{'duration': 38.0,\n      'maxDur': 38.0,\n      'minDur': 38.0,\n      'state': 'GGgrrrGGg'},\n     {'duration': 3.0, 'maxDur': 3.0, 'minDur': 3.0, 'state': 'yygrrryyg'},\n     {'duration': 6.0, 'maxDur': 6.0, 'minDur': 6.0, 'state': 'rrGrrrrrG'},\n     {'duration': 3.0, 'maxDur': 3.0, 'minDur': 3.0, 'state': 'rryrrrrry'},\n     {'duration': 37.0, 'maxDur': 37.0, 'minDur': 37.0, 'state': 'rrrGGGGrr'},\n     {'duration': 3.0, 'maxDur': 3.0, 'minDur': 3.0, 'state': 'rrryyyyrr'}],\n    'program_id': '0',\n    'type': 0},\n   {'phases': [{'duration': 86400.0,\n      'maxDur': 15.0,\n      'minDur': 6.0,\n      'state': 'GGgrrrGGg'},\n     {'duration': 86400.0,\n      'maxDur': 10.0,\n      'minDur': 10.0,\n      'state': 'GGgrrrGGg'},\n     {'duration': 86400.0,\n      'maxDur': 35.0,\n      'minDur': 2.0,\n      'state': 'GGgrrrGGg'},\n     {'duration': 86400.0, 'maxDur': 3.0, 'minDur': 3.0, 'state': 'GGgrrryyy'},\n     {'duration': 86400.0,\n      'maxDur': 21.0,\n      'minDur': 3.0,\n      'state': 'GGGrrrrrr'},\n     {'duration': 86400.0, 'maxDur': 3.0, 'minDur': 3.0, 'state': 'yyyrrrrrr'},\n     {'duration': 86400.0, 'maxDur': 3.0, 'minDur': 3.0, 'state': 'rrrrrrrrr'},\n     {'duration': 86400.0,\n      'maxDur': 15.0,\n      'minDur': 6.0,\n      'state': 'rrrGGGrrr'},\n     {'duration': 86400.0,\n      'maxDur': 13.0,\n      'minDur': 13.0,\n      'state': 'rrrGGGrrr'},\n     {'duration': 86400.0,\n      'maxDur': 26.0,\n      'minDur': 2.0,\n      'state': 'rrrGGGrrr'},\n     {'duration': 86400.0, 'maxDur': 3.0, 'minDur': 3.0, 'state': 'rrryyyrrr'},\n     {'duration': 86400.0,\n      'maxDur': 3.0,\n      'minDur': 3.0,\n      'state': 'rrrrrrrrr'}],\n    'program_id': 'utopia',\n    'type': 0}],\n  'program': 'utopia'}]"
     },
     "execution_count": 10,
     "metadata": {},
     "output_type": "execute_result"
    }
   ],
   "source": [
    "api_endpoints.get_traffic_lights(simulation_id)"
   ],
   "metadata": {
    "collapsed": false,
    "ExecuteTime": {
     "end_time": "2023-11-27T11:11:29.458774Z",
     "start_time": "2023-11-27T11:11:29.435452Z"
    }
   },
   "id": "9b68b7158430e875"
  },
  {
   "cell_type": "code",
   "execution_count": 4,
   "outputs": [],
   "source": [
    "# Neural Network Atchitecture\n",
    "class DQNNetwork(nn.Module):\n",
    "    def __init__(self, state_size: int, action_size: int, hidden_size: int = 64):\n",
    "        super().__init__()\n",
    "        self.layers = nn.Sequential(\n",
    "            nn.Linear(state_size, hidden_size),\n",
    "            nn.ReLU(),\n",
    "            nn.Linear(hidden_size, hidden_size),\n",
    "            nn.ReLU(),\n",
    "            nn.Linear(hidden_size, action_size)\n",
    "        )\n",
    "        \n",
    "    def forward(self, state: torch.Tensor) -> torch.Tensor:\n",
    "        return self.layers(state)"
   ],
   "metadata": {
    "collapsed": false,
    "ExecuteTime": {
     "end_time": "2023-11-27T08:21:41.663852Z",
     "start_time": "2023-11-27T08:21:41.661571Z"
    }
   },
   "id": "6b52ce51a9fb2842"
  },
  {
   "cell_type": "code",
   "execution_count": 5,
   "outputs": [],
   "source": [
    "import api_endpoints\n",
    "# Deep Q-Learning Agent\n",
    "class DQNAgent:\n",
    "    def __init__(self, state_size: int, action_size: int, config_path: str, tls_id: str, hidden_size: int = 64, learning_rate: float = 0.001, starting_epsilon: float = 1.0, epsilon_decay: float = 0.995, min_epsilon: float = 0.01):\n",
    "        self.state_size = state_size\n",
    "        self.action_size = action_size # number of actions (Make step, Change phase, Change program)\n",
    "        self.hidden_size = hidden_size\n",
    "        \n",
    "        self.model = DQNNetwork(state_size, action_size, hidden_size).to(device)\n",
    "        self.optimizer = optim.Adam(self.model.parameters(), lr=learning_rate)\n",
    "        self.loss_fn = nn.MSELoss()\n",
    "        self.epsilon = starting_epsilon # Exploration rate\n",
    "        \n",
    "        # Simulation related variables\n",
    "        self.session_id = api_endpoints.start_simulation(config_path)\n",
    "        self.tls_id = tls_id\n",
    "        \n",
    "    def act(self, state: np.ndarray) -> int:\n",
    "        # Epsilon-greedy action selection\n",
    "        if random.random() < self.epsilon:\n",
    "            return random.randrange(self.action_size)\n",
    "        else:\n",
    "            state = torch.from_numpy(state).float().unsqueeze(0).to(device)\n",
    "            with torch.inference_mode():\n",
    "                action_values = self.model(state)\n",
    "            return torch.argmax(action_values).item()\n",
    "        \n",
    "    def learn(self, state: np.ndarray, action: int, reward: float, next_state: np.ndarray, done: bool) -> None:\n",
    "        "
   ],
   "metadata": {
    "collapsed": false,
    "ExecuteTime": {
     "end_time": "2023-11-27T08:28:29.819229Z",
     "start_time": "2023-11-27T08:28:29.813682Z"
    }
   },
   "id": "8ceeb464068a4999"
  },
  {
   "cell_type": "code",
   "execution_count": null,
   "outputs": [],
   "source": [
    "from tqdm import tqdm\n",
    "EPISODES = 1000\n",
    "for episode in tqdm(range(EPISODES)):\n"
   ],
   "metadata": {
    "collapsed": false
   },
   "id": "2547c55b7c11163d"
  }
 ],
 "metadata": {
  "kernelspec": {
   "display_name": "Python 3",
   "language": "python",
   "name": "python3"
  },
  "language_info": {
   "codemirror_mode": {
    "name": "ipython",
    "version": 2
   },
   "file_extension": ".py",
   "mimetype": "text/x-python",
   "name": "python",
   "nbconvert_exporter": "python",
   "pygments_lexer": "ipython2",
   "version": "2.7.6"
  }
 },
 "nbformat": 4,
 "nbformat_minor": 5
}
