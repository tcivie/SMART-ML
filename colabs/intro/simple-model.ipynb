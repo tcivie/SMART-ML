{
 "cells": [
  {
   "cell_type": "code",
   "execution_count": null,
   "id": "initial_id",
   "metadata": {
    "collapsed": true
   },
   "outputs": [],
   "source": [
    "from typing import Tuple\n",
    "\n",
    "import torch\n",
    "import torch.nn as nn\n",
    "import torch.optim as optim\n",
    "import random\n",
    "import numpy as np\n",
    "from torch import Tensor\n",
    "\n",
    "torch.__version__"
   ]
  },
  {
   "cell_type": "code",
   "execution_count": null,
   "outputs": [],
   "source": [
    "# Determine the best available device for PyTorch operations (Device Agnostic Code)\n",
    "if torch.cuda.is_available():\n",
    "    device = 'cuda' # GPU\n",
    "elif torch.backends.mps.is_available():\n",
    "    device = 'mps' # GPU for MacOS (Metal Programming Framework)\n",
    "else:\n",
    "    device = 'cpu' # CPU\n",
    "\n",
    "print(f'Device set to: {device}')"
   ],
   "metadata": {
    "collapsed": false
   },
   "id": "f2b1d58221efc1bd"
  },
  {
   "cell_type": "code",
   "execution_count": null,
   "outputs": [],
   "source": [
    "# Constants\n",
    "TLS_ID = '209'\n",
    "HIDDEN_SIZE = 64\n",
    "LEARNING_RATE = 1e-3\n",
    "EPS_START = 0.9\n",
    "EPS_END = 0.05\n",
    "EPS_DECAY = 1_000\n",
    "BATCH_SIZE = 128\n",
    "GAMMA = 0.99\n",
    "TAU = 0.005\n",
    "EPISODES = 1_000"
   ],
   "metadata": {
    "collapsed": false
   },
   "id": "775b206ccf3c63e6"
  },
  {
   "cell_type": "code",
   "execution_count": null,
   "outputs": [],
   "source": [
    "import api_endpoints\n",
    "# Check what data we have\n",
    "simulation_id = api_endpoints.start_simulation('scenarios/bologna/acosta/run.sumocfg')\n",
    "simulation_id"
   ],
   "metadata": {
    "collapsed": false
   },
   "id": "9992b292c0f589ad"
  },
  {
   "cell_type": "code",
   "execution_count": null,
   "outputs": [],
   "source": [
    "response = api_endpoints.get_initial_data(simulation_id)\n",
    "tls_209 = response['data']['tls']['209']\n",
    "tls_209"
   ],
   "metadata": {
    "collapsed": false
   },
   "id": "9b68b7158430e875"
  },
  {
   "cell_type": "code",
   "execution_count": null,
   "outputs": [],
   "source": [
    "n_observations = len(tls_209['lanes'] * 7)\n",
    "n_actions = 3 # Step, Change Phase, Change Program\n",
    "\n",
    "print(f'Observations: {n_observations} | Actions: {n_actions}')"
   ],
   "metadata": {
    "collapsed": false
   },
   "id": "ceeb27c6c37059cc"
  },
  {
   "cell_type": "code",
   "execution_count": null,
   "outputs": [],
   "source": [
    "from collections import namedtuple, deque\n",
    "\n",
    "Transition = namedtuple('Transition',\n",
    "                        ('state', 'action', 'next_state', 'reward'))\n",
    "\n",
    "\n",
    "class ReplayMemory(object):\n",
    "\n",
    "    def __init__(self, capacity):\n",
    "        self.memory = deque([], maxlen=capacity)\n",
    "\n",
    "    def push(self, *args):\n",
    "        \"\"\"Save a transition\"\"\"\n",
    "        self.memory.append(Transition(*args))\n",
    "\n",
    "    def sample(self, batch_size):\n",
    "        return random.sample(self.memory, batch_size)\n",
    "\n",
    "    def __len__(self):\n",
    "        return len(self.memory)"
   ],
   "metadata": {
    "collapsed": false
   },
   "id": "925e1984f34a1119"
  },
  {
   "cell_type": "code",
   "execution_count": null,
   "outputs": [],
   "source": [
    "# Neural Network Atchitecture\n",
    "import api_endpoints\n",
    "class SimpleNetwork(nn.Module):\n",
    "    def __init__(self, state_size: int, action_size: int, hidden_size: int = 64):\n",
    "        super().__init__()\n",
    "        self.layers = nn.Sequential(\n",
    "            nn.Linear(state_size, hidden_size),\n",
    "            nn.ReLU(),\n",
    "            nn.Linear(hidden_size, hidden_size),\n",
    "            nn.ReLU(),\n",
    "            nn.Linear(hidden_size, action_size)\n",
    "        )\n",
    "        \n",
    "    def forward(self, state: torch.Tensor) -> torch.Tensor:\n",
    "        return self.layers(state)"
   ],
   "metadata": {
    "collapsed": false
   },
   "id": "6b52ce51a9fb2842"
  },
  {
   "cell_type": "code",
   "execution_count": null,
   "outputs": [],
   "source": [
    "def reward_func(states: dict) -> torch.Tensor:\n",
    "    penalty = 0\n",
    "    for lane in states:\n",
    "        if not lane:\n",
    "            continue\n",
    "        if lane['max_waiting_time'] > 0:\n",
    "            queue_length_percentage = lane['queue_length'] / (lane['total_cars'] / lane['occupancy'])\n",
    "            penalty -= queue_length_percentage * lane['max_waiting_time']\n",
    "        else:\n",
    "            penalty += lane['average_speed']\n",
    "    return torch.tensor(penalty, dtype=torch.float16, device=device)"
   ],
   "metadata": {
    "collapsed": false
   },
   "id": "5c500a0b7e51d3db"
  },
  {
   "cell_type": "code",
   "execution_count": null,
   "outputs": [],
   "source": [
    "def extract_state_tensor(simulation_id: str, number_of_steps: int, tls_id: str, action: int) -> tuple[torch.Tensor, torch.Tensor]:\n",
    "    if action == 0:\n",
    "        response = api_endpoints.step_simulation(simulation_id, number_of_steps, tls_id)\n",
    "    elif action == 1:\n",
    "        response = api_endpoints.set_traffic_light_phase(simulation_id, tls_id, make_step=number_of_steps)\n",
    "    elif action == 2:\n",
    "        response = api_endpoints.switch_traffic_light_program(simulation_id, tls_id, make_step=number_of_steps) #TODO: Solve the issue with the program selection - (Either change in cyclic ways or add additional output to the network)\n",
    "    else:\n",
    "        raise Exception('Invalid action')\n",
    "    \n",
    "    # response = api_endpoints.step_simulation(simulation_id, number_of_steps, tls_id)\n",
    "    metrics = response['vehicles_in_tls'][tls_id]['longest_waiting_time_car_in_lane']\n",
    "    extracted_data = []\n",
    "    for lane in metrics:\n",
    "        values = list(metrics[lane].values())\n",
    "        if values:\n",
    "            extracted_data.extend(metrics[lane].values())\n",
    "        else:\n",
    "            extracted_data.extend([0] * 7)\n",
    "    state = torch.tensor(extracted_data, dtype=torch.float16, device=device)\n",
    "    \n",
    "    reward = reward_func(metrics)\n",
    "    \n",
    "    return state, reward"
   ],
   "metadata": {
    "collapsed": false
   },
   "id": "d97fd2493a46ee54"
  },
  {
   "cell_type": "code",
   "execution_count": null,
   "outputs": [],
   "source": [
    "def reset_simulation(simulation_id: str) -> torch.Tensor:\n",
    "    response = api_endpoints.reset_simulation(simulation_id)\n",
    "    if response['status'] != 'success':\n",
    "        raise Exception('Error resetting simulation')\n",
    "    state, reward = extract_state_tensor(simulation_id, 1, '209')\n",
    "    return state"
   ],
   "metadata": {
    "collapsed": false
   },
   "id": "6af425f36a84739e"
  },
  {
   "cell_type": "code",
   "execution_count": null,
   "outputs": [],
   "source": [
    "import json\n",
    "\n",
    "state = extract_state_tensor(simulation_id, 20, '209')\n",
    "len(state), state"
   ],
   "metadata": {
    "collapsed": false
   },
   "id": "7a9ae0667776433"
  },
  {
   "cell_type": "code",
   "execution_count": null,
   "outputs": [],
   "source": [
    "policy_net = SimpleNetwork(n_observations, n_actions, HIDDEN_SIZE).to(device)\n",
    "target_net = SimpleNetwork(n_observations, n_actions, HIDDEN_SIZE).to(device)\n",
    "target_net.load_state_dict(policy_net.state_dict())\n",
    "\n",
    "optimizer = optim.Adam(policy_net.parameters(), lr=LEARNING_RATE)\n",
    "memory = ReplayMemory(10000)\n",
    "\n",
    "steps_done = 0"
   ],
   "metadata": {
    "collapsed": false
   },
   "id": "bc15d180e155fe00"
  },
  {
   "cell_type": "code",
   "execution_count": null,
   "outputs": [],
   "source": [
    "def select_action(state: torch.Tensor) -> torch.Tensor:\n",
    "    global steps_done\n",
    "    sample = random.random()\n",
    "    eps_threshold = EPS_END + (EPS_START - EPS_END) * np.exp(-1. * steps_done / EPS_DECAY)\n",
    "    steps_done += 1\n",
    "    if sample > eps_threshold:\n",
    "        with torch.inference_mode():\n",
    "            return policy_net(state.to(device)).max(1).indices.view(1, 1)\n",
    "    else:\n",
    "        return torch.tensor([[random.randrange(n_actions)]], device=device, dtype=torch.long)"
   ],
   "metadata": {
    "collapsed": false
   },
   "id": "34c346b7993b7e02"
  },
  {
   "cell_type": "code",
   "execution_count": null,
   "outputs": [],
   "source": [
    "episode_durations = []"
   ],
   "metadata": {
    "collapsed": false
   },
   "id": "5ee9e2c33444cf54"
  },
  {
   "cell_type": "code",
   "execution_count": null,
   "outputs": [],
   "source": [
    "def optimize_model():\n",
    "    if len(memory) < BATCH_SIZE:\n",
    "        return\n",
    "    transitions = memory.sample(BATCH_SIZE)\n",
    "    # Transpose the batch (see https://stackoverflow.com/a/19343/3343043 for\n",
    "    # detailed explanation). This converts batch-array of Transitions\n",
    "    # to Transition of batch-arrays.\n",
    "    batch = Transition(*zip(*transitions))\n",
    "\n",
    "    # Compute a mask of non-final states and concatenate the batch elements\n",
    "    # (a final state would've been the one after which simulation ended)\n",
    "    non_final_mask = torch.tensor(tuple(map(lambda s: s is not None,\n",
    "                                          batch.next_state)), device=device, dtype=torch.bool)\n",
    "    non_final_next_states = torch.cat([s for s in batch.next_state\n",
    "                                                if s is not None])\n",
    "    state_batch = torch.cat(batch.state)\n",
    "    action_batch = torch.cat(batch.action)\n",
    "    reward_batch = torch.cat(batch.reward)\n",
    "\n",
    "    # Compute Q(s_t, a) - the model computes Q(s_t), then we select the\n",
    "    # columns of actions taken. These are the actions which would've been taken\n",
    "    # for each batch state according to policy_net\n",
    "    state_action_values = policy_net(state_batch).gather(1, action_batch)\n",
    "\n",
    "    # Compute V(s_{t+1}) for all next states.\n",
    "    # Expected values of actions for non_final_next_states are computed based\n",
    "    # on the \"older\" target_net; selecting their best reward with max(1).values\n",
    "    # This is merged based on the mask, such that we'll have either the expected\n",
    "    # state value or 0 in case the state was final.\n",
    "    next_state_values = torch.zeros(BATCH_SIZE, device=device)\n",
    "    with torch.inference_mode():\n",
    "        next_state_values[non_final_mask] = target_net(non_final_next_states).max(1).values\n",
    "    # Compute the expected Q values\n",
    "    expected_state_action_values = (next_state_values * GAMMA) + reward_batch\n",
    "\n",
    "    # Compute Huber loss\n",
    "    criterion = nn.SmoothL1Loss()\n",
    "    loss = criterion(state_action_values, expected_state_action_values.unsqueeze(1))\n",
    "\n",
    "    # Optimize the model\n",
    "    optimizer.zero_grad()\n",
    "    loss.backward()\n",
    "    # In-place gradient clipping\n",
    "    torch.nn.utils.clip_grad_value_(policy_net.parameters(), 100)\n",
    "    optimizer.step()"
   ],
   "metadata": {
    "collapsed": false
   },
   "id": "1f622ef8ab6de2e4"
  },
  {
   "cell_type": "code",
   "execution_count": null,
   "outputs": [],
   "source": [
    "import matplotlib\n",
    "import matplotlib.pyplot as plt\n",
    "\n",
    "is_ipython = 'inline' in matplotlib.get_backend()\n",
    "if is_ipython:\n",
    "    from IPython import display\n",
    "\n",
    "plt.ion()\n",
    "\n",
    "def plot_durations(show_result=False):\n",
    "    plt.figure(1)\n",
    "    durations_t = torch.tensor(episode_durations, dtype=torch.float)\n",
    "    if show_result:\n",
    "        plt.title('Result')\n",
    "    else:\n",
    "        plt.clf()\n",
    "        plt.title('Training...')\n",
    "    plt.xlabel('Episode')\n",
    "    plt.ylabel('Duration')\n",
    "    plt.plot(durations_t.numpy())\n",
    "    # Take 100 episode averages and plot them too\n",
    "    if len(durations_t) >= 100:\n",
    "        means = durations_t.unfold(0, 100, 1).mean(1).view(-1)\n",
    "        means = torch.cat((torch.zeros(99), means))\n",
    "        plt.plot(means.numpy())\n",
    "\n",
    "    plt.pause(0.001)  # pause a bit so that plots are updated\n",
    "    if is_ipython:\n",
    "        if not show_result:\n",
    "            display.display(plt.gcf())\n",
    "            display.clear_output(wait=True)\n",
    "        else:\n",
    "            display.display(plt.gcf())"
   ],
   "metadata": {
    "collapsed": false
   },
   "id": "574546601d9f5d98"
  },
  {
   "cell_type": "code",
   "execution_count": null,
   "outputs": [],
   "source": [
    "from itertools import count\n",
    "\n",
    "for i_episode in range(EPISODES):\n",
    "    state = reset_simulation(simulation_id)\n",
    "    for t in range(1_000):\n",
    "        # Select and perform an action\n",
    "        action = select_action(state)\n",
    "        observation, reward = extract_state_tensor(simulation_id, 1, '209', action)\n",
    "\n",
    "        # Store the transition in memory\n",
    "        memory.push(state, action, next_state, reward)\n",
    "\n",
    "        # Move to the next state\n",
    "        state = next_state\n",
    "\n",
    "        # Perform one step of the optimization (on the target network)\n",
    "        optimize_model()\n",
    "        if response['status'] == 'success':\n",
    "            break"
   ],
   "metadata": {
    "collapsed": false
   },
   "id": "f6b00d4a243c4bea"
  }
 ],
 "metadata": {
  "kernelspec": {
   "display_name": "Python 3",
   "language": "python",
   "name": "python3"
  },
  "language_info": {
   "codemirror_mode": {
    "name": "ipython",
    "version": 2
   },
   "file_extension": ".py",
   "mimetype": "text/x-python",
   "name": "python",
   "nbconvert_exporter": "python",
   "pygments_lexer": "ipython2",
   "version": "2.7.6"
  }
 },
 "nbformat": 4,
 "nbformat_minor": 5
}
