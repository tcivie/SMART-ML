{
 "cells": [
  {
   "cell_type": "code",
   "execution_count": null,
   "id": "initial_id",
   "metadata": {
    "collapsed": true
   },
   "outputs": [],
   "source": [
    "from api_endpoints import *\n",
    "import torch"
   ]
  },
  {
   "cell_type": "code",
   "execution_count": null,
   "outputs": [],
   "source": [
    "steps_count = 5\n",
    "selected_tls_name = None"
   ],
   "metadata": {
    "collapsed": false
   },
   "id": "3dda3bcb954b9146"
  },
  {
   "cell_type": "code",
   "execution_count": null,
   "outputs": [],
   "source": [
    "# Determine the best available device for PyTorch operations\n",
    "if torch.cuda.is_available():\n",
    "    device = 'cuda'\n",
    "elif torch.backends.mps.is_available():\n",
    "    device = 'mps'\n",
    "else:\n",
    "    device = 'cpu'\n",
    "\n",
    "print(f'Device set to: {device}')"
   ],
   "metadata": {
    "collapsed": false
   },
   "id": "da366539b46dfee5"
  },
  {
   "cell_type": "code",
   "execution_count": null,
   "outputs": [],
   "source": [
    "\n",
    "from typing import Any\n",
    "from colabs.intro import api_endpoints\n",
    "\n",
    "def extract_state_tensor(simulation_id: str, number_of_steps: int) -> tuple[Any]:\n",
    "    response = api_endpoints.step_simulation(simulation_id, number_of_steps) # Make step\n",
    "\n",
    "    is_ended = response['is_ended']\n",
    "    return is_ended"
   ],
   "metadata": {
    "collapsed": false
   },
   "id": "b38b3f0819f8e10b"
  },
  {
   "cell_type": "code",
   "execution_count": null,
   "outputs": [],
   "source": [
    "from itertools import count\n",
    "\n",
    "simulation_id = start_simulation('scenarios/bologna/acosta/run.sumocfg',is_gui=False)\n",
    "state = reset_simulation(simulation_id)\n",
    "for t in count():\n",
    "    is_ended = extract_state_tensor(simulation_id, steps_count)\n",
    "    if is_ended:\n",
    "        break"
   ],
   "metadata": {
    "collapsed": false
   },
   "id": "9f246344cf1f620"
  },
  {
   "cell_type": "code",
   "execution_count": null,
   "outputs": [],
   "source": [
    "stop_simulation(simulation_id)"
   ],
   "metadata": {
    "collapsed": false
   },
   "id": "fee18b77169116b7"
  },
  {
   "cell_type": "code",
   "execution_count": 1,
   "outputs": [
    {
     "name": "stderr",
     "output_type": "stream",
     "text": [
      "\u001B[34m\u001B[1mwandb\u001B[0m: Currently logged in as: \u001B[33mtcivie\u001B[0m (\u001B[33msmart-lights\u001B[0m). Use \u001B[1m`wandb login --relogin`\u001B[0m to force relogin\n"
     ]
    },
    {
     "data": {
      "text/plain": "<IPython.core.display.HTML object>",
      "text/html": "Tracking run with wandb version 0.16.1"
     },
     "metadata": {},
     "output_type": "display_data"
    },
    {
     "data": {
      "text/plain": "<IPython.core.display.HTML object>",
      "text/html": "Run data is saved locally in <code>/Users/glebtcivie/Documents/Projects.nosync/PycharmProjects/SMART-ML/colabs/intro/wandb/run-20231216_224326-9rk2j7md</code>"
     },
     "metadata": {},
     "output_type": "display_data"
    },
    {
     "data": {
      "text/plain": "<IPython.core.display.HTML object>",
      "text/html": "Syncing run <strong><a href='https://wandb.ai/smart-lights/traffic-light-rl/runs/9rk2j7md' target=\"_blank\">base-run</a></strong> to <a href='https://wandb.ai/smart-lights/traffic-light-rl' target=\"_blank\">Weights & Biases</a> (<a href='https://wandb.me/run' target=\"_blank\">docs</a>)<br/>"
     },
     "metadata": {},
     "output_type": "display_data"
    },
    {
     "data": {
      "text/plain": "<IPython.core.display.HTML object>",
      "text/html": " View project at <a href='https://wandb.ai/smart-lights/traffic-light-rl' target=\"_blank\">https://wandb.ai/smart-lights/traffic-light-rl</a>"
     },
     "metadata": {},
     "output_type": "display_data"
    },
    {
     "data": {
      "text/plain": "<IPython.core.display.HTML object>",
      "text/html": " View run at <a href='https://wandb.ai/smart-lights/traffic-light-rl/runs/9rk2j7md' target=\"_blank\">https://wandb.ai/smart-lights/traffic-light-rl/runs/9rk2j7md</a>"
     },
     "metadata": {},
     "output_type": "display_data"
    },
    {
     "data": {
      "text/html": "<button onClick=\"this.nextSibling.style.display='block';this.style.display='none';\">Display W&B run</button><iframe src='https://wandb.ai/smart-lights/traffic-light-rl/runs/9rk2j7md?jupyter=true' style='border:none;width:100%;height:420px;display:none;'></iframe>",
      "text/plain": "<wandb.sdk.wandb_run.Run at 0x13ed05bb0>"
     },
     "execution_count": 1,
     "metadata": {},
     "output_type": "execute_result"
    }
   ],
   "source": [
    "import wandb\n",
    "wandb.init(project='traffic-light-rl', name=\"base-run\")"
   ],
   "metadata": {
    "collapsed": false,
    "ExecuteTime": {
     "end_time": "2023-12-16T20:43:27.193897Z",
     "start_time": "2023-12-16T20:43:24.047581Z"
    }
   },
   "id": "8faabb4e63b9e04a"
  },
  {
   "cell_type": "code",
   "execution_count": 2,
   "outputs": [],
   "source": [
    "simulation_id = '5823bb06-4783-441d-a895-aa22fe0df44d'"
   ],
   "metadata": {
    "collapsed": false,
    "ExecuteTime": {
     "end_time": "2023-12-16T20:43:27.197849Z",
     "start_time": "2023-12-16T20:43:27.192658Z"
    }
   },
   "id": "def15bc3f6349628"
  },
  {
   "cell_type": "code",
   "execution_count": 3,
   "outputs": [],
   "source": [
    "from dockerImage.sumo_sim.utils import parse_summary_xml, parse_tripinfo_xml\n",
    "import pandas as pd\n",
    "\n",
    "base_path = '../../dockerImage/scenarios/bologna/acosta/' + str(simulation_id)\n",
    "parsed_summary = parse_summary_xml(base_path + 'summary.xml')\n",
    "parsed_trips = pd.DataFrame(parse_tripinfo_xml(base_path + 'tripinfo-output.xml'))"
   ],
   "metadata": {
    "collapsed": false,
    "ExecuteTime": {
     "end_time": "2023-12-16T20:43:29.814909Z",
     "start_time": "2023-12-16T20:43:29.269928Z"
    }
   },
   "id": "ed635e4f09fec3e1"
  },
  {
   "cell_type": "code",
   "execution_count": 4,
   "outputs": [],
   "source": [
    "for time_step_data in parsed_summary:\n",
    "    wandb.log(time_step_data, step=int(time_step_data['time']))"
   ],
   "metadata": {
    "collapsed": false,
    "ExecuteTime": {
     "end_time": "2023-12-16T20:43:32.708795Z",
     "start_time": "2023-12-16T20:43:31.684581Z"
    }
   },
   "id": "dcc7342703be0ae6"
  },
  {
   "cell_type": "code",
   "execution_count": 10,
   "outputs": [
    {
     "data": {
      "text/plain": "                 id  depart departLane  departPos  departSpeed  departDelay  \\\n0       Audinot_7_0     0.0      131_0        0.0          0.0          0.0   \n1      Silvani_11_1     3.0   203[0]_0        0.0          0.0          1.0   \n2     Togliatti_2_8    11.0       85_0        0.0          0.0          0.0   \n3      Silvani_11_9    21.0   203[0]_0        0.0          0.0          0.0   \n4   Togliatti_12_15    21.0       85_2        0.0          0.0          0.0   \n5      Silvani_11_0     0.0   203[0]_0        0.0          0.0          0.0   \n6      Silvani_11_8    18.0   203[0]_0        0.0          0.0          0.0   \n7   Togliatti_12_24    34.0       85_2        0.0          0.0          0.0   \n8     Silvani_11_13    30.0   203[0]_0        0.0          0.0          0.0   \n9     Silvani_11_14    33.0   203[0]_0        0.0          0.0          0.0   \n10    Silvani_11_12    28.0   203[0]_0        0.0          0.0          0.0   \n11    Silvani_11_16    37.0   203[0]_0        0.0          0.0          0.0   \n12   Togliatti_3_18    25.0       85_0        0.0          0.0          0.0   \n13       Costa_3_21    55.0    78[0]_0        0.0          0.0          1.0   \n14    Silvani_11_17    40.0   203[0]_0        0.0          0.0          0.0   \n15  XXI_Aprile_2_12    42.0       13_0        0.0          0.0          0.0   \n16   Togliatti_3_31    44.0       85_0        0.0          0.0          0.0   \n17   Togliatti_2_32    47.0       85_0        0.0          0.0          2.0   \n18  Togliatti_12_48    68.0       85_2        0.0          0.0          0.0   \n19    Silvani_11_24    57.0   203[0]_0        0.0          0.0          1.0   \n\n    arrival arrivalLane  arrivalPos  arrivalSpeed  duration  routeLength  \\\n0      77.0       209_0      395.59         12.74      77.0       873.23   \n1     102.0       114_0      692.70         11.70      99.0      1114.25   \n2     102.0  77[1][1]_0      463.98         15.01      91.0      1145.48   \n3     102.0       114_1      692.70         14.89      81.0      1114.25   \n4     102.0       136_0      186.20         12.20      81.0       909.95   \n5     106.0       114_0      692.70         11.34     106.0      1114.25   \n6     109.0       114_0      692.70         13.09      91.0      1114.25   \n7     114.0       136_0      186.20         12.72      80.0       909.95   \n8     115.0       114_0      692.70         14.65      85.0      1114.25   \n9     115.0       114_1      692.70         14.97      82.0      1114.25   \n10    118.0       114_0      692.70         12.88      90.0      1114.25   \n11    123.0       114_0      692.70         14.09      86.0      1114.25   \n12    126.0        14_0       77.26         12.18     101.0      1110.28   \n13    128.0        14_0       77.26         15.56      73.0       850.23   \n14    133.0       114_0      692.70         11.97      93.0      1114.25   \n15    136.0  77[1][1]_0      463.98         14.54      94.0       976.81   \n16    141.0        14_0       77.26         13.65      97.0      1110.28   \n17    141.0  77[1][1]_0      463.98         13.52      94.0      1145.48   \n18    142.0       136_0      186.20         14.36      74.0       909.95   \n19    143.0       114_0      692.70         13.97      86.0      1114.25   \n\n    waitingTime  waitingCount  stopTime  timeLoss  rerouteNo        vType  \\\n0           0.0             0       0.0     10.46          0   passenger4   \n1           0.0             0       0.0     11.41          0  passenger2b   \n2           0.0             0       0.0     14.45          0  passenger2a   \n3           0.0             0       0.0     10.65          0   passenger4   \n4           0.0             0       0.0      9.33          0   passenger3   \n5           0.0             0       0.0      8.98          0   passenger3   \n6           0.0             0       0.0      7.30          0   passenger3   \n7           0.0             0       0.0      9.32          0   passenger1   \n8           0.0             0       0.0      8.56          0   passenger1   \n9           0.0             0       0.0     10.85          0   passenger3   \n10          0.0             0       0.0      7.42          0  passenger2b   \n11          0.0             0       0.0      6.84          0   passenger3   \n12          0.0             0       0.0     12.00          0  passenger2a   \n13          0.0             0       0.0     17.58          0   passenger1   \n14          0.0             0       0.0      7.36          0   passenger3   \n15         11.0             1       0.0     28.90          0   passenger4   \n16          1.0             1       0.0     17.64          0   passenger1   \n17          0.0             0       0.0     12.64          0   passenger3   \n18          0.0             0       0.0      8.60          0  passenger2a   \n19          0.0             0       0.0      9.62          0   passenger1   \n\n    speedFactor  \n0          0.98  \n1          0.92  \n2          1.10  \n3          1.15  \n4          0.94  \n5          0.83  \n6          0.96  \n7          0.95  \n8          1.06  \n9          1.14  \n10         0.98  \n11         1.02  \n12         0.92  \n13         1.13  \n14         0.94  \n15         1.10  \n16         1.04  \n17         1.04  \n18         1.04  \n19         1.06  ",
      "text/html": "<div>\n<style scoped>\n    .dataframe tbody tr th:only-of-type {\n        vertical-align: middle;\n    }\n\n    .dataframe tbody tr th {\n        vertical-align: top;\n    }\n\n    .dataframe thead th {\n        text-align: right;\n    }\n</style>\n<table border=\"1\" class=\"dataframe\">\n  <thead>\n    <tr style=\"text-align: right;\">\n      <th></th>\n      <th>id</th>\n      <th>depart</th>\n      <th>departLane</th>\n      <th>departPos</th>\n      <th>departSpeed</th>\n      <th>departDelay</th>\n      <th>arrival</th>\n      <th>arrivalLane</th>\n      <th>arrivalPos</th>\n      <th>arrivalSpeed</th>\n      <th>duration</th>\n      <th>routeLength</th>\n      <th>waitingTime</th>\n      <th>waitingCount</th>\n      <th>stopTime</th>\n      <th>timeLoss</th>\n      <th>rerouteNo</th>\n      <th>vType</th>\n      <th>speedFactor</th>\n    </tr>\n  </thead>\n  <tbody>\n    <tr>\n      <th>0</th>\n      <td>Audinot_7_0</td>\n      <td>0.0</td>\n      <td>131_0</td>\n      <td>0.0</td>\n      <td>0.0</td>\n      <td>0.0</td>\n      <td>77.0</td>\n      <td>209_0</td>\n      <td>395.59</td>\n      <td>12.74</td>\n      <td>77.0</td>\n      <td>873.23</td>\n      <td>0.0</td>\n      <td>0</td>\n      <td>0.0</td>\n      <td>10.46</td>\n      <td>0</td>\n      <td>passenger4</td>\n      <td>0.98</td>\n    </tr>\n    <tr>\n      <th>1</th>\n      <td>Silvani_11_1</td>\n      <td>3.0</td>\n      <td>203[0]_0</td>\n      <td>0.0</td>\n      <td>0.0</td>\n      <td>1.0</td>\n      <td>102.0</td>\n      <td>114_0</td>\n      <td>692.70</td>\n      <td>11.70</td>\n      <td>99.0</td>\n      <td>1114.25</td>\n      <td>0.0</td>\n      <td>0</td>\n      <td>0.0</td>\n      <td>11.41</td>\n      <td>0</td>\n      <td>passenger2b</td>\n      <td>0.92</td>\n    </tr>\n    <tr>\n      <th>2</th>\n      <td>Togliatti_2_8</td>\n      <td>11.0</td>\n      <td>85_0</td>\n      <td>0.0</td>\n      <td>0.0</td>\n      <td>0.0</td>\n      <td>102.0</td>\n      <td>77[1][1]_0</td>\n      <td>463.98</td>\n      <td>15.01</td>\n      <td>91.0</td>\n      <td>1145.48</td>\n      <td>0.0</td>\n      <td>0</td>\n      <td>0.0</td>\n      <td>14.45</td>\n      <td>0</td>\n      <td>passenger2a</td>\n      <td>1.10</td>\n    </tr>\n    <tr>\n      <th>3</th>\n      <td>Silvani_11_9</td>\n      <td>21.0</td>\n      <td>203[0]_0</td>\n      <td>0.0</td>\n      <td>0.0</td>\n      <td>0.0</td>\n      <td>102.0</td>\n      <td>114_1</td>\n      <td>692.70</td>\n      <td>14.89</td>\n      <td>81.0</td>\n      <td>1114.25</td>\n      <td>0.0</td>\n      <td>0</td>\n      <td>0.0</td>\n      <td>10.65</td>\n      <td>0</td>\n      <td>passenger4</td>\n      <td>1.15</td>\n    </tr>\n    <tr>\n      <th>4</th>\n      <td>Togliatti_12_15</td>\n      <td>21.0</td>\n      <td>85_2</td>\n      <td>0.0</td>\n      <td>0.0</td>\n      <td>0.0</td>\n      <td>102.0</td>\n      <td>136_0</td>\n      <td>186.20</td>\n      <td>12.20</td>\n      <td>81.0</td>\n      <td>909.95</td>\n      <td>0.0</td>\n      <td>0</td>\n      <td>0.0</td>\n      <td>9.33</td>\n      <td>0</td>\n      <td>passenger3</td>\n      <td>0.94</td>\n    </tr>\n    <tr>\n      <th>5</th>\n      <td>Silvani_11_0</td>\n      <td>0.0</td>\n      <td>203[0]_0</td>\n      <td>0.0</td>\n      <td>0.0</td>\n      <td>0.0</td>\n      <td>106.0</td>\n      <td>114_0</td>\n      <td>692.70</td>\n      <td>11.34</td>\n      <td>106.0</td>\n      <td>1114.25</td>\n      <td>0.0</td>\n      <td>0</td>\n      <td>0.0</td>\n      <td>8.98</td>\n      <td>0</td>\n      <td>passenger3</td>\n      <td>0.83</td>\n    </tr>\n    <tr>\n      <th>6</th>\n      <td>Silvani_11_8</td>\n      <td>18.0</td>\n      <td>203[0]_0</td>\n      <td>0.0</td>\n      <td>0.0</td>\n      <td>0.0</td>\n      <td>109.0</td>\n      <td>114_0</td>\n      <td>692.70</td>\n      <td>13.09</td>\n      <td>91.0</td>\n      <td>1114.25</td>\n      <td>0.0</td>\n      <td>0</td>\n      <td>0.0</td>\n      <td>7.30</td>\n      <td>0</td>\n      <td>passenger3</td>\n      <td>0.96</td>\n    </tr>\n    <tr>\n      <th>7</th>\n      <td>Togliatti_12_24</td>\n      <td>34.0</td>\n      <td>85_2</td>\n      <td>0.0</td>\n      <td>0.0</td>\n      <td>0.0</td>\n      <td>114.0</td>\n      <td>136_0</td>\n      <td>186.20</td>\n      <td>12.72</td>\n      <td>80.0</td>\n      <td>909.95</td>\n      <td>0.0</td>\n      <td>0</td>\n      <td>0.0</td>\n      <td>9.32</td>\n      <td>0</td>\n      <td>passenger1</td>\n      <td>0.95</td>\n    </tr>\n    <tr>\n      <th>8</th>\n      <td>Silvani_11_13</td>\n      <td>30.0</td>\n      <td>203[0]_0</td>\n      <td>0.0</td>\n      <td>0.0</td>\n      <td>0.0</td>\n      <td>115.0</td>\n      <td>114_0</td>\n      <td>692.70</td>\n      <td>14.65</td>\n      <td>85.0</td>\n      <td>1114.25</td>\n      <td>0.0</td>\n      <td>0</td>\n      <td>0.0</td>\n      <td>8.56</td>\n      <td>0</td>\n      <td>passenger1</td>\n      <td>1.06</td>\n    </tr>\n    <tr>\n      <th>9</th>\n      <td>Silvani_11_14</td>\n      <td>33.0</td>\n      <td>203[0]_0</td>\n      <td>0.0</td>\n      <td>0.0</td>\n      <td>0.0</td>\n      <td>115.0</td>\n      <td>114_1</td>\n      <td>692.70</td>\n      <td>14.97</td>\n      <td>82.0</td>\n      <td>1114.25</td>\n      <td>0.0</td>\n      <td>0</td>\n      <td>0.0</td>\n      <td>10.85</td>\n      <td>0</td>\n      <td>passenger3</td>\n      <td>1.14</td>\n    </tr>\n    <tr>\n      <th>10</th>\n      <td>Silvani_11_12</td>\n      <td>28.0</td>\n      <td>203[0]_0</td>\n      <td>0.0</td>\n      <td>0.0</td>\n      <td>0.0</td>\n      <td>118.0</td>\n      <td>114_0</td>\n      <td>692.70</td>\n      <td>12.88</td>\n      <td>90.0</td>\n      <td>1114.25</td>\n      <td>0.0</td>\n      <td>0</td>\n      <td>0.0</td>\n      <td>7.42</td>\n      <td>0</td>\n      <td>passenger2b</td>\n      <td>0.98</td>\n    </tr>\n    <tr>\n      <th>11</th>\n      <td>Silvani_11_16</td>\n      <td>37.0</td>\n      <td>203[0]_0</td>\n      <td>0.0</td>\n      <td>0.0</td>\n      <td>0.0</td>\n      <td>123.0</td>\n      <td>114_0</td>\n      <td>692.70</td>\n      <td>14.09</td>\n      <td>86.0</td>\n      <td>1114.25</td>\n      <td>0.0</td>\n      <td>0</td>\n      <td>0.0</td>\n      <td>6.84</td>\n      <td>0</td>\n      <td>passenger3</td>\n      <td>1.02</td>\n    </tr>\n    <tr>\n      <th>12</th>\n      <td>Togliatti_3_18</td>\n      <td>25.0</td>\n      <td>85_0</td>\n      <td>0.0</td>\n      <td>0.0</td>\n      <td>0.0</td>\n      <td>126.0</td>\n      <td>14_0</td>\n      <td>77.26</td>\n      <td>12.18</td>\n      <td>101.0</td>\n      <td>1110.28</td>\n      <td>0.0</td>\n      <td>0</td>\n      <td>0.0</td>\n      <td>12.00</td>\n      <td>0</td>\n      <td>passenger2a</td>\n      <td>0.92</td>\n    </tr>\n    <tr>\n      <th>13</th>\n      <td>Costa_3_21</td>\n      <td>55.0</td>\n      <td>78[0]_0</td>\n      <td>0.0</td>\n      <td>0.0</td>\n      <td>1.0</td>\n      <td>128.0</td>\n      <td>14_0</td>\n      <td>77.26</td>\n      <td>15.56</td>\n      <td>73.0</td>\n      <td>850.23</td>\n      <td>0.0</td>\n      <td>0</td>\n      <td>0.0</td>\n      <td>17.58</td>\n      <td>0</td>\n      <td>passenger1</td>\n      <td>1.13</td>\n    </tr>\n    <tr>\n      <th>14</th>\n      <td>Silvani_11_17</td>\n      <td>40.0</td>\n      <td>203[0]_0</td>\n      <td>0.0</td>\n      <td>0.0</td>\n      <td>0.0</td>\n      <td>133.0</td>\n      <td>114_0</td>\n      <td>692.70</td>\n      <td>11.97</td>\n      <td>93.0</td>\n      <td>1114.25</td>\n      <td>0.0</td>\n      <td>0</td>\n      <td>0.0</td>\n      <td>7.36</td>\n      <td>0</td>\n      <td>passenger3</td>\n      <td>0.94</td>\n    </tr>\n    <tr>\n      <th>15</th>\n      <td>XXI_Aprile_2_12</td>\n      <td>42.0</td>\n      <td>13_0</td>\n      <td>0.0</td>\n      <td>0.0</td>\n      <td>0.0</td>\n      <td>136.0</td>\n      <td>77[1][1]_0</td>\n      <td>463.98</td>\n      <td>14.54</td>\n      <td>94.0</td>\n      <td>976.81</td>\n      <td>11.0</td>\n      <td>1</td>\n      <td>0.0</td>\n      <td>28.90</td>\n      <td>0</td>\n      <td>passenger4</td>\n      <td>1.10</td>\n    </tr>\n    <tr>\n      <th>16</th>\n      <td>Togliatti_3_31</td>\n      <td>44.0</td>\n      <td>85_0</td>\n      <td>0.0</td>\n      <td>0.0</td>\n      <td>0.0</td>\n      <td>141.0</td>\n      <td>14_0</td>\n      <td>77.26</td>\n      <td>13.65</td>\n      <td>97.0</td>\n      <td>1110.28</td>\n      <td>1.0</td>\n      <td>1</td>\n      <td>0.0</td>\n      <td>17.64</td>\n      <td>0</td>\n      <td>passenger1</td>\n      <td>1.04</td>\n    </tr>\n    <tr>\n      <th>17</th>\n      <td>Togliatti_2_32</td>\n      <td>47.0</td>\n      <td>85_0</td>\n      <td>0.0</td>\n      <td>0.0</td>\n      <td>2.0</td>\n      <td>141.0</td>\n      <td>77[1][1]_0</td>\n      <td>463.98</td>\n      <td>13.52</td>\n      <td>94.0</td>\n      <td>1145.48</td>\n      <td>0.0</td>\n      <td>0</td>\n      <td>0.0</td>\n      <td>12.64</td>\n      <td>0</td>\n      <td>passenger3</td>\n      <td>1.04</td>\n    </tr>\n    <tr>\n      <th>18</th>\n      <td>Togliatti_12_48</td>\n      <td>68.0</td>\n      <td>85_2</td>\n      <td>0.0</td>\n      <td>0.0</td>\n      <td>0.0</td>\n      <td>142.0</td>\n      <td>136_0</td>\n      <td>186.20</td>\n      <td>14.36</td>\n      <td>74.0</td>\n      <td>909.95</td>\n      <td>0.0</td>\n      <td>0</td>\n      <td>0.0</td>\n      <td>8.60</td>\n      <td>0</td>\n      <td>passenger2a</td>\n      <td>1.04</td>\n    </tr>\n    <tr>\n      <th>19</th>\n      <td>Silvani_11_24</td>\n      <td>57.0</td>\n      <td>203[0]_0</td>\n      <td>0.0</td>\n      <td>0.0</td>\n      <td>1.0</td>\n      <td>143.0</td>\n      <td>114_0</td>\n      <td>692.70</td>\n      <td>13.97</td>\n      <td>86.0</td>\n      <td>1114.25</td>\n      <td>0.0</td>\n      <td>0</td>\n      <td>0.0</td>\n      <td>9.62</td>\n      <td>0</td>\n      <td>passenger1</td>\n      <td>1.06</td>\n    </tr>\n  </tbody>\n</table>\n</div>"
     },
     "execution_count": 10,
     "metadata": {},
     "output_type": "execute_result"
    }
   ],
   "source": [
    "parsed_trips[:20]"
   ],
   "metadata": {
    "collapsed": false,
    "ExecuteTime": {
     "end_time": "2023-12-16T20:49:21.881989Z",
     "start_time": "2023-12-16T20:49:21.850457Z"
    }
   },
   "id": "62c0e2063636b896"
  },
  {
   "cell_type": "code",
   "execution_count": 7,
   "outputs": [
    {
     "data": {
      "text/plain": "8779"
     },
     "execution_count": 7,
     "metadata": {},
     "output_type": "execute_result"
    }
   ],
   "source": [
    "# len(parsed_trips)"
   ],
   "metadata": {
    "collapsed": false,
    "ExecuteTime": {
     "end_time": "2023-12-16T20:44:30.474997Z",
     "start_time": "2023-12-16T20:44:30.458736Z"
    }
   },
   "id": "67f94f3be6e60a18"
  },
  {
   "cell_type": "code",
   "execution_count": 11,
   "outputs": [],
   "source": [
    "# my_table = wandb.Table(dataframe=parsed_trips)\n",
    "# wandb.log({\"Trips Info\": my_table}) TODO: Fix this not working"
   ],
   "metadata": {
    "collapsed": false,
    "ExecuteTime": {
     "end_time": "2023-12-16T20:51:24.825276Z",
     "start_time": "2023-12-16T20:51:21.934035Z"
    }
   },
   "id": "8e82835083dac3f4"
  },
  {
   "cell_type": "code",
   "execution_count": null,
   "outputs": [],
   "source": [
    "# wandb.finish()"
   ],
   "metadata": {
    "collapsed": false
   },
   "id": "37999f59d23d6ad1"
  },
  {
   "cell_type": "code",
   "execution_count": null,
   "outputs": [],
   "source": [],
   "metadata": {
    "collapsed": false
   },
   "id": "485dff06e3dda510"
  }
 ],
 "metadata": {
  "kernelspec": {
   "display_name": "Python 3",
   "language": "python",
   "name": "python3"
  },
  "language_info": {
   "codemirror_mode": {
    "name": "ipython",
    "version": 2
   },
   "file_extension": ".py",
   "mimetype": "text/x-python",
   "name": "python",
   "nbconvert_exporter": "python",
   "pygments_lexer": "ipython2",
   "version": "2.7.6"
  }
 },
 "nbformat": 4,
 "nbformat_minor": 5
}
