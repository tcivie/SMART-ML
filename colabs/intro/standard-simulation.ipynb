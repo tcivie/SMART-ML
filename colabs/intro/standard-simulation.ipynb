{
 "cells": [
  {
   "cell_type": "code",
   "execution_count": 2,
   "id": "initial_id",
   "metadata": {
    "collapsed": true,
    "ExecuteTime": {
     "end_time": "2023-12-16T12:44:10.102134Z",
     "start_time": "2023-12-16T12:44:08.837859Z"
    }
   },
   "outputs": [],
   "source": [
    "from api_endpoints import *\n",
    "import torch"
   ]
  },
  {
   "cell_type": "code",
   "execution_count": 3,
   "outputs": [],
   "source": [
    "steps_count = 5\n",
    "selected_tls_name = None"
   ],
   "metadata": {
    "collapsed": false,
    "ExecuteTime": {
     "end_time": "2023-12-16T12:44:10.104547Z",
     "start_time": "2023-12-16T12:44:10.102621Z"
    }
   },
   "id": "3dda3bcb954b9146"
  },
  {
   "cell_type": "code",
   "execution_count": 4,
   "outputs": [
    {
     "name": "stdout",
     "output_type": "stream",
     "text": [
      "Device set to: mps\n"
     ]
    }
   ],
   "source": [
    "# Determine the best available device for PyTorch operations\n",
    "if torch.cuda.is_available():\n",
    "    device = 'cuda'\n",
    "elif torch.backends.mps.is_available():\n",
    "    device = 'mps'\n",
    "else:\n",
    "    device = 'cpu'\n",
    "\n",
    "print(f'Device set to: {device}')"
   ],
   "metadata": {
    "collapsed": false,
    "ExecuteTime": {
     "end_time": "2023-12-16T12:44:10.115006Z",
     "start_time": "2023-12-16T12:44:10.112714Z"
    }
   },
   "id": "da366539b46dfee5"
  },
  {
   "cell_type": "code",
   "execution_count": 5,
   "outputs": [],
   "source": [
    "\n",
    "from typing import Any\n",
    "from colabs.intro import api_endpoints\n",
    "\n",
    "def extract_state_tensor(simulation_id: str, number_of_steps: int) -> tuple[Any]:\n",
    "    response = api_endpoints.step_simulation(simulation_id, number_of_steps) # Make step\n",
    "\n",
    "    is_ended = response['is_ended']\n",
    "    return is_ended"
   ],
   "metadata": {
    "collapsed": false,
    "ExecuteTime": {
     "end_time": "2023-12-16T12:44:10.187282Z",
     "start_time": "2023-12-16T12:44:10.183537Z"
    }
   },
   "id": "b38b3f0819f8e10b"
  },
  {
   "cell_type": "code",
   "execution_count": 6,
   "outputs": [],
   "source": [
    "from itertools import count\n",
    "\n",
    "simulation_id = start_simulation('scenarios/bologna/acosta/run.sumocfg',is_gui=False)\n",
    "state = reset_simulation(simulation_id)\n",
    "for t in count():\n",
    "    is_ended = extract_state_tensor(simulation_id, steps_count)\n",
    "    if is_ended:\n",
    "        break"
   ],
   "metadata": {
    "collapsed": false,
    "ExecuteTime": {
     "end_time": "2023-12-16T12:48:25.208777Z",
     "start_time": "2023-12-16T12:44:11.062814Z"
    }
   },
   "id": "9f246344cf1f620"
  },
  {
   "cell_type": "code",
   "execution_count": 7,
   "outputs": [
    {
     "data": {
      "text/plain": "{'status': 'success'}"
     },
     "execution_count": 7,
     "metadata": {},
     "output_type": "execute_result"
    }
   ],
   "source": [
    "stop_simulation(simulation_id)"
   ],
   "metadata": {
    "collapsed": false,
    "ExecuteTime": {
     "end_time": "2023-12-16T12:48:25.226352Z",
     "start_time": "2023-12-16T12:48:25.204912Z"
    }
   },
   "id": "fee18b77169116b7"
  },
  {
   "cell_type": "code",
   "execution_count": 1,
   "outputs": [],
   "source": [
    "# from dockerImage.sumo_sim.utils import update_config\n",
    "# update_config('../../dockerImage/scenarios/bologna/acosta/run.sumocfg','someID2')"
   ],
   "metadata": {
    "collapsed": false,
    "ExecuteTime": {
     "end_time": "2023-12-16T12:43:27.261284Z",
     "start_time": "2023-12-16T12:43:27.253102Z"
    }
   },
   "id": "8faabb4e63b9e04a"
  },
  {
   "cell_type": "code",
   "execution_count": null,
   "outputs": [],
   "source": [],
   "metadata": {
    "collapsed": false
   },
   "id": "a7a8f2326241781e"
  }
 ],
 "metadata": {
  "kernelspec": {
   "display_name": "Python 3",
   "language": "python",
   "name": "python3"
  },
  "language_info": {
   "codemirror_mode": {
    "name": "ipython",
    "version": 2
   },
   "file_extension": ".py",
   "mimetype": "text/x-python",
   "name": "python",
   "nbconvert_exporter": "python",
   "pygments_lexer": "ipython2",
   "version": "2.7.6"
  }
 },
 "nbformat": 4,
 "nbformat_minor": 5
}
