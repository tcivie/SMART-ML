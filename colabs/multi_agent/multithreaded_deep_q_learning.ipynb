{
 "cells": [
  {
   "cell_type": "markdown",
   "source": [
    "Main thread -> open number of agents as threads (n)\n",
    "\n",
    "Main thread will open 2n channels (2 for each agent) Read channel & Write channel\n",
    "\n",
    "Each thread will perform the calculations and will send the action on the write channel - the main thread will listen to those channels and will send the action to the environment\n",
    "\n",
    "Once we have response from the environment(Docker SUMO Instance) we will send the response to all the agents\n"
   ],
   "metadata": {
    "collapsed": false
   },
   "id": "abe5e7c0ec0c3540"
  },
  {
   "cell_type": "markdown",
   "source": [
    "## Imports"
   ],
   "metadata": {
    "collapsed": false
   },
   "id": "95adc64d52285909"
  },
  {
   "cell_type": "code",
   "outputs": [],
   "source": [
    "import threading\n",
    "from threading import Condition,Lock\n",
    "import time\n",
    "import torch\n",
    "from sumo_sim.Simulation import Simulation\n",
    "import torch.optim as optim\n",
    "import colabs.intro.api_endpoints as api"
   ],
   "metadata": {
    "collapsed": false
   },
   "id": "86bd34eaf09499dc"
  },
  {
   "cell_type": "markdown",
   "source": [
    "## The agent Thread"
   ],
   "metadata": {
    "collapsed": false
   },
   "id": "a5071ad3c38c2b62"
  },
  {
   "cell_type": "code",
   "outputs": [],
   "source": [
    "from utils.models.DeepQLearning import DeepQLearningAgent\n",
    "\n",
    "requests_lock = Lock()\n",
    "agent_requests = dict()\n",
    "global_data_dict = dict()\n",
    "running = True\n",
    "wake_up_cond = Condition()\n",
    "main_thread_condition = Condition()\n",
    "def agent_thread(tls_id, selected_tls_info):\n",
    "    global wake_up_cond,running,global_data_dict,requests_lock,agent_requests\n",
    "    selected_program_ids = [program['program_id']  for program in selected_tls_info[\"programs\"]]\n",
    "    selected_program_ids.sort()\n",
    "    \n",
    "    agent = DeepQLearningAgent(tls_id, selected_program_ids)\n",
    "    accumulated_loss = 0\n",
    "    while running:  \n",
    "        if global_data_dict:\n",
    "            # calculation\n",
    "            state = torch.tensor(global_data_dict[tls_id], dtype=torch.float32, device=agent.device).unsqueeze(0)\n",
    "            selected_action = agent.select_action(state)\n",
    "            action_func = agent.decide_action(selected_action)\n",
    "            \n",
    "            with requests_lock:\n",
    "                agent_requests[tls_id] = action_func\n",
    "            with main_thread_condition:\n",
    "                main_thread_condition.notify()\n",
    "                \n",
    "        with wake_up_cond:\n",
    "            wake_up_cond.wait()\n",
    "            \n",
    "        observation, reward, is_ended = agent.calculate_reward(global_data_dict[tls_id])\n",
    "        reward = torch.tensor([reward], device=agent.device)\n",
    "            \n",
    "        if is_ended:\n",
    "            next_state = None\n",
    "        else:\n",
    "            next_state = torch.tensor(observation, dtype=torch.float32, device=agent.device).unsqueeze(0)\n",
    "        # Store the transition in memory\n",
    "        agent.memory.push(state, selected_action, next_state, reward)\n",
    "\n",
    "          # Move to the next state\n",
    "        state = next_state\n",
    "        \n",
    "        \n",
    "        # Perform one step of the optimization (on the target network)\n",
    "        loss = optimize_model()\n",
    "        accumulated_loss += loss\n",
    "        \n",
    "        # Soft update of the target network's weights\n",
    "        # θ′ ← τ θ + (1 −τ )θ′\n",
    "        target_net_state_dict = target_net.state_dict()\n",
    "        policy_net_state_dict = policy_net.state_dict()\n",
    "\n",
    "        for key in policy_net_state_dict:\n",
    "            target_net_state_dict[key] = policy_net_state_dict[key]*TAU + target_net_state_dict[key]*(1-TAU)\n",
    "        target_net.load_state_dict(target_net_state_dict)\n",
    "        if is_ended:\n",
    "            episode_durations.append(t + 1)\n",
    "            plot_durations()\n",
    "            break\n",
    "    "
   ],
   "metadata": {
    "collapsed": false
   },
   "id": "e7466e638c64a045"
  },
  {
   "cell_type": "markdown",
   "source": [
    "## The main Thread"
   ],
   "metadata": {
    "collapsed": false
   },
   "id": "5638bd2de9b8929a"
  },
  {
   "cell_type": "code",
   "outputs": [],
   "source": [
    "params = {\n",
    "    \"HIDDEN_SIZE\": 64,\n",
    "    \"LEARNING_RATE\": 1e-1,\n",
    "    \"EPS_START\": 0.9,\n",
    "    \"EPS_END\": 0.05,\n",
    "    \"EPS_DECAY\": 1_000,\n",
    "    \"BATCH_SIZE\": 128,\n",
    "    \"GAMMA\": 0.80,\n",
    "    \"TAU\": 0.005,\n",
    "    \"MEM_SIZE\": 100_000,\n",
    "    \"EPISODES\": 10\n",
    "}\n",
    "architecture = \"SimpleNetwork with 3 layers\""
   ],
   "metadata": {
    "collapsed": false
   },
   "id": "46cd446fc1193972"
  },
  {
   "cell_type": "code",
   "outputs": [],
   "source": [
    "if __name__ == '__main__':\n",
    "    agent_threads = []\n",
    "    simulation_id = api.start_simulation('scenarios/bologna/acosta/run.sumocfg',is_gui=False, params=params, architecture=architecture)\n",
    "    tls_list = api.get_traffic_lights(simulation_id)\n",
    "    initial_data = api.get_initial_data(simulation_id)\n",
    "    \n",
    "    number_of_agents = len(tls_list)\n",
    "    \n",
    "    for tls in tls_list:\n",
    "        selected_tls_info = initial_data['data']['tls'][tls['id']]\n",
    "        agent_threads.append(threading.Thread(target=agent_thread, args=(tls['id'],selected_tls_info,)))\n",
    "    \n",
    "    while running:\n",
    "        while len(agent_requests) < len(number_of_agents):\n",
    "            with main_thread_condition:\n",
    "                main_thread_condition.wait()\n",
    "        # send requests to API\n",
    "        for agent_request in agent_requests:\n",
    "            agent_request(simulation_id)\n",
    "            \n",
    "        # Make step and get response\n",
    "        response = api.step_simulation(simulation_id, steps=5)\n",
    "        \n",
    "        # Send response to all agents\n",
    "        global_data_dict = response\n",
    "        \n",
    "        agent_requests.clear()\n",
    "        wake_up_cond.notifyAll()\n",
    "        "
   ],
   "metadata": {
    "collapsed": false
   },
   "id": "3b254307a2e49edb"
  }
 ],
 "metadata": {
  "kernelspec": {
   "display_name": "Python 3",
   "language": "python",
   "name": "python3"
  },
  "language_info": {
   "codemirror_mode": {
    "name": "ipython",
    "version": 2
   },
   "file_extension": ".py",
   "mimetype": "text/x-python",
   "name": "python",
   "nbconvert_exporter": "python",
   "pygments_lexer": "ipython2",
   "version": "2.7.6"
  }
 },
 "nbformat": 4,
 "nbformat_minor": 5
}
